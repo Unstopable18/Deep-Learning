{
  "cells": [
    {
      "cell_type": "markdown",
      "metadata": {
        "id": "view-in-github",
        "colab_type": "text"
      },
      "source": [
        "<a href=\"https://colab.research.google.com/github/Unstopable18/Deep-Learning/blob/main/Cats_vs_Dogs%20(Colab).ipynb\" target=\"_parent\"><img src=\"https://colab.research.google.com/assets/colab-badge.svg\" alt=\"Open In Colab\"/></a>"
      ]
    },
    {
      "cell_type": "code",
      "execution_count": 1,
      "metadata": {
        "id": "DKkZ6rFyumzx"
      },
      "outputs": [],
      "source": [
        "!mkdir -p ~/.kaggle\n",
        "!cp kaggle.json ~/.kaggle/"
      ]
    },
    {
      "cell_type": "code",
      "source": [
        "!kaggle datasets download -d salader/dogs-vs-cats"
      ],
      "metadata": {
        "colab": {
          "base_uri": "https://localhost:8080/"
        },
        "id": "we2zwB7LvywQ",
        "outputId": "49a14eb6-79a0-4959-a8d7-2f80f4652d44"
      },
      "execution_count": 2,
      "outputs": [
        {
          "output_type": "stream",
          "name": "stdout",
          "text": [
            "Warning: Your Kaggle API key is readable by other users on this system! To fix this, you can run 'chmod 600 /root/.kaggle/kaggle.json'\n",
            "Downloading dogs-vs-cats.zip to /content\n",
            "100% 1.06G/1.06G [00:47<00:00, 24.6MB/s]\n",
            "100% 1.06G/1.06G [00:47<00:00, 24.0MB/s]\n"
          ]
        }
      ]
    },
    {
      "cell_type": "code",
      "source": [
        "import zipfile\n",
        "zip_ref = zipfile.ZipFile('/content/dogs-vs-cats.zip', 'r')\n",
        "zip_ref.extractall('/content')\n",
        "zip_ref.close()"
      ],
      "metadata": {
        "id": "0dk2UjCKv7Ug"
      },
      "execution_count": 3,
      "outputs": []
    },
    {
      "cell_type": "code",
      "execution_count": 4,
      "metadata": {
        "id": "XRIm2RWVumzz"
      },
      "outputs": [],
      "source": [
        "import tensorflow as tf\n",
        "from tensorflow import keras\n",
        "from keras import  Sequential\n",
        "from keras.layers import Dense,Conv2D,MaxPooling2D,Flatten,BatchNormalization,Dropout\n",
        "import matplotlib.pyplot as plt"
      ]
    },
    {
      "cell_type": "code",
      "execution_count": 5,
      "metadata": {
        "colab": {
          "base_uri": "https://localhost:8080/"
        },
        "id": "5SsE4Juoumz1",
        "outputId": "14a4b0f7-4b46-43e3-8c76-ba403d93a975"
      },
      "outputs": [
        {
          "output_type": "stream",
          "name": "stdout",
          "text": [
            "Found 5000 files belonging to 2 classes.\n",
            "Found 5000 files belonging to 2 classes.\n"
          ]
        }
      ],
      "source": [
        "train=keras.utils.image_dataset_from_directory(\n",
        "    directory='/content/dogs_vs_cats/test',labels='inferred',label_mode='int',batch_size=32,image_size=(256,256)\n",
        ")\n",
        "\n",
        "test=keras.utils.image_dataset_from_directory(\n",
        "    directory='/content/dogs_vs_cats/test',labels='inferred',label_mode='int',batch_size=32,image_size=(256,256)\n",
        ")"
      ]
    },
    {
      "cell_type": "markdown",
      "metadata": {
        "id": "UgOolO7Iumz3"
      },
      "source": [
        "Normalize the above numpy array into (0-1)"
      ]
    },
    {
      "cell_type": "code",
      "execution_count": 6,
      "metadata": {
        "id": "GEqLcobtumz4"
      },
      "outputs": [],
      "source": [
        "def process(image,label):\n",
        "    image=tf.cast(image/256.,tf.float32)\n",
        "    return image,label\n",
        "train=train.map(process)\n",
        "test=test.map(process)"
      ]
    },
    {
      "cell_type": "markdown",
      "metadata": {
        "id": "meHxHT4Mumz4"
      },
      "source": [
        "CNN Model"
      ]
    },
    {
      "cell_type": "code",
      "execution_count": 12,
      "metadata": {
        "colab": {
          "base_uri": "https://localhost:8080/"
        },
        "id": "xPb_sTbHumz5",
        "outputId": "d95c83ba-267c-44f7-a756-00f538dff021"
      },
      "outputs": [
        {
          "output_type": "stream",
          "name": "stdout",
          "text": [
            "Model: \"sequential\"\n",
            "_________________________________________________________________\n",
            " Layer (type)                Output Shape              Param #   \n",
            "=================================================================\n",
            " conv2d (Conv2D)             (None, 254, 254, 32)      896       \n",
            "                                                                 \n",
            " max_pooling2d (MaxPooling2D  (None, 127, 127, 32)     0         \n",
            " )                                                               \n",
            "                                                                 \n",
            " conv2d_1 (Conv2D)           (None, 125, 125, 64)      18496     \n",
            "                                                                 \n",
            " max_pooling2d_1 (MaxPooling  (None, 62, 62, 64)       0         \n",
            " 2D)                                                             \n",
            "                                                                 \n",
            " conv2d_2 (Conv2D)           (None, 60, 60, 128)       73856     \n",
            "                                                                 \n",
            " max_pooling2d_2 (MaxPooling  (None, 30, 30, 128)      0         \n",
            " 2D)                                                             \n",
            "                                                                 \n",
            " flatten (Flatten)           (None, 115200)            0         \n",
            "                                                                 \n",
            " dense (Dense)               (None, 128)               14745728  \n",
            "                                                                 \n",
            " dense_1 (Dense)             (None, 64)                8256      \n",
            "                                                                 \n",
            " dense_2 (Dense)             (None, 1)                 65        \n",
            "                                                                 \n",
            "=================================================================\n",
            "Total params: 14,847,297\n",
            "Trainable params: 14,847,297\n",
            "Non-trainable params: 0\n",
            "_________________________________________________________________\n"
          ]
        }
      ],
      "source": [
        "model=Sequential()\n",
        "model.add(Conv2D(32,kernel_size=(3,3),padding='valid',activation='relu',input_shape=(256,256,3)))\n",
        "model.add(MaxPooling2D(pool_size=(2,2),strides=2,padding='valid'))\n",
        "\n",
        "model.add(Conv2D(64,kernel_size=(3,3),padding='valid',activation='relu'))\n",
        "model.add(MaxPooling2D(pool_size=(2,2),strides=2,padding='valid'))\n",
        "\n",
        "model.add(Conv2D(128,kernel_size=(3,3),padding='valid',activation='relu'))\n",
        "model.add(MaxPooling2D(pool_size=(2,2),strides=2,padding='valid'))\n",
        "\n",
        "model.add(Flatten())\n",
        "\n",
        "model.add(Dense(128,activation='relu'))\n",
        "model.add(Dense(64,activation='relu'))\n",
        "model.add(Dense(1,activation='sigmoid'))\n",
        "model.summary()\n"
      ]
    },
    {
      "cell_type": "code",
      "execution_count": 13,
      "metadata": {
        "id": "rbBAnWlpumz5"
      },
      "outputs": [],
      "source": [
        "model.compile(optimizer='adam',loss='binary_crossentropy',metrics=['accuracy'])"
      ]
    },
    {
      "cell_type": "code",
      "execution_count": 14,
      "metadata": {
        "colab": {
          "base_uri": "https://localhost:8080/"
        },
        "id": "XQQaoAFpumz6",
        "outputId": "39ff53ad-99ce-4897-8acf-dfdc17d57c75"
      },
      "outputs": [
        {
          "output_type": "stream",
          "name": "stdout",
          "text": [
            "Epoch 1/10\n",
            "157/157 [==============================] - 33s 133ms/step - loss: 0.7172 - accuracy: 0.5270 - val_loss: 0.6758 - val_accuracy: 0.5652\n",
            "Epoch 2/10\n",
            "157/157 [==============================] - 22s 139ms/step - loss: 0.6517 - accuracy: 0.6312 - val_loss: 0.5990 - val_accuracy: 0.6866\n",
            "Epoch 3/10\n",
            "157/157 [==============================] - 21s 129ms/step - loss: 0.5717 - accuracy: 0.7076 - val_loss: 0.4632 - val_accuracy: 0.7794\n",
            "Epoch 4/10\n",
            "157/157 [==============================] - 19s 122ms/step - loss: 0.4521 - accuracy: 0.7896 - val_loss: 0.3827 - val_accuracy: 0.8200\n",
            "Epoch 5/10\n",
            "157/157 [==============================] - 20s 125ms/step - loss: 0.3512 - accuracy: 0.8428 - val_loss: 0.2775 - val_accuracy: 0.8830\n",
            "Epoch 6/10\n",
            "157/157 [==============================] - 21s 129ms/step - loss: 0.1881 - accuracy: 0.9216 - val_loss: 0.1803 - val_accuracy: 0.9280\n",
            "Epoch 7/10\n",
            "157/157 [==============================] - 20s 124ms/step - loss: 0.1018 - accuracy: 0.9644 - val_loss: 0.1367 - val_accuracy: 0.9496\n",
            "Epoch 8/10\n",
            "157/157 [==============================] - 21s 131ms/step - loss: 0.0700 - accuracy: 0.9758 - val_loss: 0.0813 - val_accuracy: 0.9708\n",
            "Epoch 9/10\n",
            "157/157 [==============================] - 22s 138ms/step - loss: 0.0462 - accuracy: 0.9846 - val_loss: 0.0948 - val_accuracy: 0.9710\n",
            "Epoch 10/10\n",
            "157/157 [==============================] - 20s 121ms/step - loss: 0.0518 - accuracy: 0.9844 - val_loss: 0.0569 - val_accuracy: 0.9848\n"
          ]
        }
      ],
      "source": [
        "history=model.fit(train,epochs=10,validation_data=test)"
      ]
    },
    {
      "cell_type": "code",
      "source": [
        "plt.plot(history.history['accuracy'],color='red',label='train')\n",
        "plt.plot(history.history['val_accuracy'],color='blue',label='validation')\n",
        "plt.legend()\n",
        "plt.show()"
      ],
      "metadata": {
        "colab": {
          "base_uri": "https://localhost:8080/",
          "height": 266
        },
        "id": "hAVTdIMJy1qz",
        "outputId": "44411ac9-2510-4b42-f8fd-4d75f20c7d3d"
      },
      "execution_count": 16,
      "outputs": [
        {
          "output_type": "display_data",
          "data": {
            "text/plain": [
              "<Figure size 432x288 with 1 Axes>"
            ],
            "image/png": "[encoded data removed]"
          },
          "metadata": {
            "needs_background": "light"
          }
        }
      ]
    },
    {
      "cell_type": "code",
      "source": [
        "plt.plot(history.history['loss'],color='red',label='train')\n",
        "plt.plot(history.history['val_loss'],color='blue',label='validation')\n",
        "plt.legend()\n",
        "plt.show()"
      ],
      "metadata": {
        "colab": {
          "base_uri": "https://localhost:8080/",
          "height": 265
        },
        "id": "AEKYvJ7wy8Jw",
        "outputId": "b605a5d1-5088-48ff-ff43-b2c7fb619570"
      },
      "execution_count": 18,
      "outputs": [
        {
          "output_type": "display_data",
          "data": {
            "text/plain": [
              "<Figure size 432x288 with 1 Axes>"
            ],
            "image/png": "[encoded data removed]"
          },
          "metadata": {
            "needs_background": "light"
          }
        }
      ]
    },
    {
      "cell_type": "code",
      "source": [
        "model=Sequential()\n",
        "model.add(Conv2D(32,kernel_size=(3,3),padding='valid',activation='relu',input_shape=(256,256,3)))\n",
        "model.add(BatchNormalization())\n",
        "model.add(MaxPooling2D(pool_size=(2,2),strides=2,padding='valid'))\n",
        "\n",
        "model.add(Conv2D(64,kernel_size=(3,3),padding='valid',activation='relu'))\n",
        "model.add(BatchNormalization())\n",
        "model.add(MaxPooling2D(pool_size=(2,2),strides=2,padding='valid'))\n",
        "\n",
        "model.add(Conv2D(128,kernel_size=(3,3),padding='valid',activation='relu'))\n",
        "model.add(BatchNormalization())\n",
        "model.add(MaxPooling2D(pool_size=(2,2),strides=2,padding='valid'))\n",
        "\n",
        "model.add(Flatten())\n",
        "\n",
        "model.add(Dense(128,activation='relu'))\n",
        "model.add(Dropout(0.1))\n",
        "model.add(Dense(64,activation='relu'))\n",
        "model.add(Dropout(0.1))\n",
        "model.add(Dense(1,activation='sigmoid'))\n",
        "model.summary()\n"
      ],
      "metadata": {
        "colab": {
          "base_uri": "https://localhost:8080/"
        },
        "id": "wc9rQk1-zAtR",
        "outputId": "7df9642b-96d0-44d6-b480-cebe0c479b38"
      },
      "execution_count": 22,
      "outputs": [
        {
          "output_type": "stream",
          "name": "stdout",
          "text": [
            "Model: \"sequential_1\"\n",
            "_________________________________________________________________\n",
            " Layer (type)                Output Shape              Param #   \n",
            "=================================================================\n",
            " conv2d_3 (Conv2D)           (None, 254, 254, 32)      896       \n",
            "                                                                 \n",
            " batch_normalization (BatchN  (None, 254, 254, 32)     128       \n",
            " ormalization)                                                   \n",
            "                                                                 \n",
            " max_pooling2d_3 (MaxPooling  (None, 127, 127, 32)     0         \n",
            " 2D)                                                             \n",
            "                                                                 \n",
            " conv2d_4 (Conv2D)           (None, 125, 125, 64)      18496     \n",
            "                                                                 \n",
            " batch_normalization_1 (Batc  (None, 125, 125, 64)     256       \n",
            " hNormalization)                                                 \n",
            "                                                                 \n",
            " max_pooling2d_4 (MaxPooling  (None, 62, 62, 64)       0         \n",
            " 2D)                                                             \n",
            "                                                                 \n",
            " conv2d_5 (Conv2D)           (None, 60, 60, 128)       73856     \n",
            "                                                                 \n",
            " batch_normalization_2 (Batc  (None, 60, 60, 128)      512       \n",
            " hNormalization)                                                 \n",
            "                                                                 \n",
            " max_pooling2d_5 (MaxPooling  (None, 30, 30, 128)      0         \n",
            " 2D)                                                             \n",
            "                                                                 \n",
            " flatten_1 (Flatten)         (None, 115200)            0         \n",
            "                                                                 \n",
            " dense_3 (Dense)             (None, 128)               14745728  \n",
            "                                                                 \n",
            " dropout (Dropout)           (None, 128)               0         \n",
            "                                                                 \n",
            " dense_4 (Dense)             (None, 64)                8256      \n",
            "                                                                 \n",
            " dropout_1 (Dropout)         (None, 64)                0         \n",
            "                                                                 \n",
            " dense_5 (Dense)             (None, 1)                 65        \n",
            "                                                                 \n",
            "=================================================================\n",
            "Total params: 14,848,193\n",
            "Trainable params: 14,847,745\n",
            "Non-trainable params: 448\n",
            "_________________________________________________________________\n"
          ]
        }
      ]
    },
    {
      "cell_type": "code",
      "source": [
        "model.compile(optimizer='adam',loss='binary_crossentropy',metrics=['accuracy'])"
      ],
      "metadata": {
        "id": "vHhjc8Ciz7mR"
      },
      "execution_count": 23,
      "outputs": []
    },
    {
      "cell_type": "code",
      "source": [
        "history=model.fit(train,epochs=10,validation_data=test)"
      ],
      "metadata": {
        "colab": {
          "base_uri": "https://localhost:8080/"
        },
        "id": "mLnaGuNdz7Vh",
        "outputId": "82cf20d0-e609-4d82-ed90-f868b0e6a20b"
      },
      "execution_count": 24,
      "outputs": [
        {
          "output_type": "stream",
          "name": "stdout",
          "text": [
            "Epoch 1/10\n",
            "157/157 [==============================] - 30s 160ms/step - loss: 3.4863 - accuracy: 0.5550 - val_loss: 3.1527 - val_accuracy: 0.5160\n",
            "Epoch 2/10\n",
            "157/157 [==============================] - 23s 142ms/step - loss: 1.0316 - accuracy: 0.5652 - val_loss: 0.8828 - val_accuracy: 0.5140\n",
            "Epoch 3/10\n",
            "157/157 [==============================] - 25s 159ms/step - loss: 0.6761 - accuracy: 0.5808 - val_loss: 0.7175 - val_accuracy: 0.6090\n",
            "Epoch 4/10\n",
            "157/157 [==============================] - 25s 158ms/step - loss: 0.6624 - accuracy: 0.5992 - val_loss: 0.6347 - val_accuracy: 0.6164\n",
            "Epoch 5/10\n",
            "157/157 [==============================] - 25s 159ms/step - loss: 0.6441 - accuracy: 0.6012 - val_loss: 0.7061 - val_accuracy: 0.6144\n",
            "Epoch 6/10\n",
            "157/157 [==============================] - 25s 158ms/step - loss: 0.6284 - accuracy: 0.6150 - val_loss: 0.5959 - val_accuracy: 0.6014\n",
            "Epoch 7/10\n",
            "157/157 [==============================] - 25s 158ms/step - loss: 0.6160 - accuracy: 0.6310 - val_loss: 1.0122 - val_accuracy: 0.6500\n",
            "Epoch 8/10\n",
            "157/157 [==============================] - 25s 157ms/step - loss: 0.5703 - accuracy: 0.6768 - val_loss: 0.5698 - val_accuracy: 0.6718\n",
            "Epoch 9/10\n",
            "157/157 [==============================] - 23s 143ms/step - loss: 0.5472 - accuracy: 0.7142 - val_loss: 0.6863 - val_accuracy: 0.5432\n",
            "Epoch 10/10\n",
            "157/157 [==============================] - 24s 148ms/step - loss: 0.5184 - accuracy: 0.7268 - val_loss: 0.5704 - val_accuracy: 0.6466\n"
          ]
        }
      ]
    },
    {
      "cell_type": "code",
      "source": [
        "plt.plot(history.history['accuracy'],color='red',label='train')\n",
        "plt.plot(history.history['val_accuracy'],color='blue',label='validation')\n",
        "plt.legend()\n",
        "plt.show()"
      ],
      "metadata": {
        "colab": {
          "base_uri": "https://localhost:8080/",
          "height": 265
        },
        "id": "ooS_w9Fkz7S6",
        "outputId": "3da209d1-bda8-47fe-9307-b19b1c7e5df3"
      },
      "execution_count": 25,
      "outputs": [
        {
          "output_type": "display_data",
          "data": {
            "text/plain": [
              "<Figure size 432x288 with 1 Axes>"
            ],
            "image/png": "[encoded data removed]"
          },
          "metadata": {
            "needs_background": "light"
          }
        }
      ]
    },
    {
      "cell_type": "code",
      "source": [
        "plt.plot(history.history['loss'],color='red',label='train')\n",
        "plt.plot(history.history['val_loss'],color='blue',label='validation')\n",
        "plt.legend()\n",
        "plt.show()"
      ],
      "metadata": {
        "colab": {
          "base_uri": "https://localhost:8080/",
          "height": 265
        },
        "id": "y5jvZ0zTz-AD",
        "outputId": "5c47dc4a-7440-4e67-d394-8f5d83afa092"
      },
      "execution_count": 26,
      "outputs": [
        {
          "output_type": "display_data",
          "data": {
            "text/plain": [
              "<Figure size 432x288 with 1 Axes>"
            ],
            "image/png": "[encoded data removed]"
          },
          "metadata": {
            "needs_background": "light"
          }
        }
      ]
    },
    {
      "cell_type": "code",
      "source": [
        "model=Sequential()\n",
        "model.add(Conv2D(32,kernel_size=(3,3),padding='valid',activation='relu',input_shape=(256,256,3)))\n",
        "model.add(MaxPooling2D(pool_size=(2,2),strides=2,padding='valid'))\n",
        "\n",
        "model.add(Conv2D(64,kernel_size=(3,3),padding='valid',activation='relu'))\n",
        "model.add(MaxPooling2D(pool_size=(2,2),strides=2,padding='valid'))\n",
        "\n",
        "model.add(Conv2D(128,kernel_size=(3,3),padding='valid',activation='relu'))\n",
        "model.add(MaxPooling2D(pool_size=(2,2),strides=2,padding='valid'))\n",
        "\n",
        "model.add(Flatten())\n",
        "\n",
        "model.add(Dense(128,activation='relu'))\n",
        "model.add(Dropout(0.1))\n",
        "model.add(Dense(64,activation='relu'))\n",
        "model.add(Dropout(0.1))\n",
        "model.add(Dense(1,activation='sigmoid'))\n",
        "model.summary()\n"
      ],
      "metadata": {
        "colab": {
          "base_uri": "https://localhost:8080/"
        },
        "id": "R0spqb2i0DtT",
        "outputId": "3907415f-0be6-443f-e6d4-2ce4c3a21791"
      },
      "execution_count": 14,
      "outputs": [
        {
          "output_type": "stream",
          "name": "stdout",
          "text": [
            "Model: \"sequential_2\"\n",
            "_________________________________________________________________\n",
            " Layer (type)                Output Shape              Param #   \n",
            "=================================================================\n",
            " conv2d_6 (Conv2D)           (None, 254, 254, 32)      896       \n",
            "                                                                 \n",
            " max_pooling2d_6 (MaxPooling  (None, 127, 127, 32)     0         \n",
            " 2D)                                                             \n",
            "                                                                 \n",
            " conv2d_7 (Conv2D)           (None, 125, 125, 64)      18496     \n",
            "                                                                 \n",
            " max_pooling2d_7 (MaxPooling  (None, 62, 62, 64)       0         \n",
            " 2D)                                                             \n",
            "                                                                 \n",
            " conv2d_8 (Conv2D)           (None, 60, 60, 128)       73856     \n",
            "                                                                 \n",
            " max_pooling2d_8 (MaxPooling  (None, 30, 30, 128)      0         \n",
            " 2D)                                                             \n",
            "                                                                 \n",
            " flatten_2 (Flatten)         (None, 115200)            0         \n",
            "                                                                 \n",
            " dense_6 (Dense)             (None, 128)               14745728  \n",
            "                                                                 \n",
            " dropout_2 (Dropout)         (None, 128)               0         \n",
            "                                                                 \n",
            " dense_7 (Dense)             (None, 64)                8256      \n",
            "                                                                 \n",
            " dropout_3 (Dropout)         (None, 64)                0         \n",
            "                                                                 \n",
            " dense_8 (Dense)             (None, 1)                 65        \n",
            "                                                                 \n",
            "=================================================================\n",
            "Total params: 14,847,297\n",
            "Trainable params: 14,847,297\n",
            "Non-trainable params: 0\n",
            "_________________________________________________________________\n"
          ]
        }
      ]
    },
    {
      "cell_type": "code",
      "source": [
        "model.compile(optimizer='adam',loss='binary_crossentropy',metrics=['accuracy'])"
      ],
      "metadata": {
        "id": "0MHYFfKK1t4i"
      },
      "execution_count": 15,
      "outputs": []
    },
    {
      "cell_type": "code",
      "source": [
        "history=model.fit(train,epochs=10,validation_data=test)"
      ],
      "metadata": {
        "colab": {
          "base_uri": "https://localhost:8080/"
        },
        "id": "Vf1liTeJ1wAU",
        "outputId": "e09f3824-2ff7-42d2-ff5e-9399b4832f51"
      },
      "execution_count": 16,
      "outputs": [
        {
          "output_type": "stream",
          "name": "stdout",
          "text": [
            "Epoch 1/10\n",
            "157/157 [==============================] - 22s 126ms/step - loss: 0.6974 - accuracy: 0.5340 - val_loss: 0.6845 - val_accuracy: 0.5576\n",
            "Epoch 2/10\n",
            "157/157 [==============================] - 22s 134ms/step - loss: 0.6658 - accuracy: 0.5890 - val_loss: 0.6642 - val_accuracy: 0.6276\n",
            "Epoch 3/10\n",
            "157/157 [==============================] - 20s 123ms/step - loss: 0.6056 - accuracy: 0.6782 - val_loss: 0.5346 - val_accuracy: 0.7538\n",
            "Epoch 4/10\n",
            "157/157 [==============================] - 20s 125ms/step - loss: 0.5161 - accuracy: 0.7440 - val_loss: 0.3897 - val_accuracy: 0.8224\n",
            "Epoch 5/10\n",
            "157/157 [==============================] - 20s 129ms/step - loss: 0.3838 - accuracy: 0.8274 - val_loss: 0.2915 - val_accuracy: 0.8744\n",
            "Epoch 6/10\n",
            "157/157 [==============================] - 19s 120ms/step - loss: 0.2595 - accuracy: 0.8924 - val_loss: 0.1545 - val_accuracy: 0.9410\n",
            "Epoch 7/10\n",
            "157/157 [==============================] - 22s 139ms/step - loss: 0.1491 - accuracy: 0.9410 - val_loss: 0.1156 - val_accuracy: 0.9606\n",
            "Epoch 8/10\n",
            "157/157 [==============================] - 19s 121ms/step - loss: 0.0926 - accuracy: 0.9684 - val_loss: 0.0702 - val_accuracy: 0.9784\n",
            "Epoch 9/10\n",
            "157/157 [==============================] - 20s 127ms/step - loss: 0.0584 - accuracy: 0.9794 - val_loss: 0.0692 - val_accuracy: 0.9752\n",
            "Epoch 10/10\n",
            "157/157 [==============================] - 20s 126ms/step - loss: 0.0729 - accuracy: 0.9758 - val_loss: 0.0434 - val_accuracy: 0.9882\n"
          ]
        }
      ]
    },
    {
      "cell_type": "code",
      "source": [
        "plt.plot(history.history['accuracy'],color='red',label='train')\n",
        "plt.plot(history.history['val_accuracy'],color='blue',label='validation')\n",
        "plt.legend()\n",
        "plt.show()"
      ],
      "metadata": {
        "colab": {
          "base_uri": "https://localhost:8080/",
          "height": 265
        },
        "id": "uaA84HwT10qh",
        "outputId": "54da2203-525f-453e-a915-6e16f65ee674"
      },
      "execution_count": 17,
      "outputs": [
        {
          "output_type": "display_data",
          "data": {
            "text/plain": [
              "<Figure size 432x288 with 1 Axes>"
            ],
            "image/png": "[encoded data removed]"
          },
          "metadata": {
            "needs_background": "light"
          }
        }
      ]
    },
    {
      "cell_type": "code",
      "source": [
        "plt.plot(history.history['loss'],color='red',label='train')\n",
        "plt.plot(history.history['val_loss'],color='blue',label='validation')\n",
        "plt.legend()\n",
        "plt.show()"
      ],
      "metadata": {
        "colab": {
          "base_uri": "https://localhost:8080/",
          "height": 265
        },
        "id": "KA50puo512uy",
        "outputId": "c3bafca7-4455-4aa6-806c-037bde3083ed"
      },
      "execution_count": 18,
      "outputs": [
        {
          "output_type": "display_data",
          "data": {
            "text/plain": [
              "<Figure size 432x288 with 1 Axes>"
            ],
            "image/png": "[encoded data removed]"
          },
          "metadata": {
            "needs_background": "light"
          }
        }
      ]
    }
  ],
  "metadata": {
    "kernelspec": {
      "display_name": "openvino_env",
      "language": "python",
      "name": "python3"
    },
    "language_info": {
      "codemirror_mode": {
        "name": "ipython",
        "version": 3
      },
      "file_extension": ".py",
      "mimetype": "text/x-python",
      "name": "python",
      "nbconvert_exporter": "python",
      "pygments_lexer": "ipython3",
      "version": "3.10.0"
    },
    "orig_nbformat": 4,
    "vscode": {
      "interpreter": {
        "hash": "0104a31503cc31c58545096f1de32d3ebd5a8dd5a3ce552d8570e05c0378b4b3"
      }
    },
    "colab": {
      "provenance": [],
      "include_colab_link": true
    },
    "accelerator": "GPU",
    "gpuClass": "standard"
  },
  "nbformat": 4,
  "nbformat_minor": 0
}