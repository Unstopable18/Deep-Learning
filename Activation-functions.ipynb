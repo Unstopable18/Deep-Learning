{
 "cells": [
  {
   "attachments": {},
   "cell_type": "markdown",
   "metadata": {},
   "source": [
    "# Activation Functions"
   ]
  },
  {
   "attachments": {},
   "cell_type": "markdown",
   "metadata": {},
   "source": [
    "<table style='width:100%'>\n",
    "<tr>\n",
    "<td><table style='width:100%'>\n",
    "<tr>\n",
    "<th>Activation Function</th>\n",
    "<th>Formula</th>\n",
    "<th>Style</th>\n",
    "</tr>\n",
    "\n",
    "<tr>\n",
    "<td>Sigmoid</td>\n",
    "<td>\n",
    "\n",
    "$ \\frac{1}{\\left(1+e^{-x}\\right)} $</td>\n",
    "<td><p style=\"font-weight:bolder;color:green;\">---</p></td>\n",
    "</tr>\n",
    "\n",
    "<tr>\n",
    "<td>Tanh</td>\n",
    "<td>\n",
    "\n",
    "$ tanh(x) $</td>\n",
    "<td><p style=\"font-weight:bolder;color:red;\">---</p></td>\n",
    "</tr>\n",
    "\n",
    "<tr>\n",
    "<td>ReLU</td>\n",
    "<td>\n",
    "\n",
    "$ \\max\\left(x,0\\right) $</td>\n",
    "<td><p style=\"font-weight:bolder;color:orange;\">---</p></td>\n",
    "</tr>\n",
    "\n",
    "<tr>\n",
    "<td>Leaky ReLU</td>\n",
    "<td>\n",
    "\n",
    "$ \\max\\left(x,0.01\\cdot x\\right) $</td>\n",
    "<td><p style=\"font-weight:bolder;color:violet;\">---</p></td>\n",
    "</tr>\n",
    "\n",
    "<tr>\n",
    "<td>ELU</td>\n",
    "<td>\n",
    "\n",
    "$ \\max\\left(x,α\\left(e^{x}-1\\right)\\right) $ ____where, α=0.1 to 0.3 </td>\n",
    "<td><p style=\"font-weight:bolder;color:blue;\">___</p></td>\n",
    "</tr>\n",
    "\n",
    "<tr>\n",
    "<td>SeLU</td>\n",
    "<td>\n",
    "\n",
    "$ \\max\\left(x,α\\cdot e^{x}-α\\right) $ ____where, α=1.67 </td>\n",
    "<td><p style=\"font-weight:bolder;color:green;\">___</p></td>\n",
    "</tr>\n",
    "\n",
    "\n",
    "</table></td>\n",
    "<td><center><iframe src=\"https://www.desmos.com/calculator/fjqnfjsiko?embed\" width=\"400\" height=\"400\" style=\"border: 1px solid #ccc\" frameborder=0></iframe></center></td>\n",
    "</tr>\n",
    "\n",
    "\n"
   ]
  },
  {
   "cell_type": "code",
   "execution_count": null,
   "metadata": {},
   "outputs": [],
   "source": []
  },
  {
   "cell_type": "code",
   "execution_count": null,
   "metadata": {},
   "outputs": [],
   "source": []
  }
 ],
 "metadata": {
  "kernelspec": {
   "display_name": "openvino_env",
   "language": "python",
   "name": "python3"
  },
  "language_info": {
   "name": "python",
   "version": "3.10.0"
  },
  "orig_nbformat": 4,
  "vscode": {
   "interpreter": {
    "hash": "0104a31503cc31c58545096f1de32d3ebd5a8dd5a3ce552d8570e05c0378b4b3"
   }
  }
 },
 "nbformat": 4,
 "nbformat_minor": 2
}
