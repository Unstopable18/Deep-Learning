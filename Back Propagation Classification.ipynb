{
 "cells": [
  {
   "attachments": {},
   "cell_type": "markdown",
   "metadata": {},
   "source": [
    "# Back Propagation\n",
    "### Classification"
   ]
  },
  {
   "cell_type": "code",
   "execution_count": 3,
   "metadata": {},
   "outputs": [],
   "source": [
    "import numpy as np\n",
    "import pandas as pd"
   ]
  },
  {
   "cell_type": "code",
   "execution_count": 4,
   "metadata": {},
   "outputs": [
    {
     "data": {
      "text/html": [
       "<div>\n",
       "<style scoped>\n",
       "    .dataframe tbody tr th:only-of-type {\n",
       "        vertical-align: middle;\n",
       "    }\n",
       "\n",
       "    .dataframe tbody tr th {\n",
       "        vertical-align: top;\n",
       "    }\n",
       "\n",
       "    .dataframe thead th {\n",
       "        text-align: right;\n",
       "    }\n",
       "</style>\n",
       "<table border=\"1\" class=\"dataframe\">\n",
       "  <thead>\n",
       "    <tr style=\"text-align: right;\">\n",
       "      <th></th>\n",
       "      <th>cgpa</th>\n",
       "      <th>iq</th>\n",
       "      <th>placement</th>\n",
       "    </tr>\n",
       "  </thead>\n",
       "  <tbody>\n",
       "    <tr>\n",
       "      <th>0</th>\n",
       "      <td>6.8</td>\n",
       "      <td>123.0</td>\n",
       "      <td>1</td>\n",
       "    </tr>\n",
       "    <tr>\n",
       "      <th>1</th>\n",
       "      <td>5.9</td>\n",
       "      <td>106.0</td>\n",
       "      <td>0</td>\n",
       "    </tr>\n",
       "    <tr>\n",
       "      <th>2</th>\n",
       "      <td>5.3</td>\n",
       "      <td>121.0</td>\n",
       "      <td>0</td>\n",
       "    </tr>\n",
       "    <tr>\n",
       "      <th>3</th>\n",
       "      <td>7.4</td>\n",
       "      <td>132.0</td>\n",
       "      <td>1</td>\n",
       "    </tr>\n",
       "    <tr>\n",
       "      <th>4</th>\n",
       "      <td>5.8</td>\n",
       "      <td>142.0</td>\n",
       "      <td>0</td>\n",
       "    </tr>\n",
       "  </tbody>\n",
       "</table>\n",
       "</div>"
      ],
      "text/plain": [
       "   cgpa     iq  placement\n",
       "0   6.8  123.0          1\n",
       "1   5.9  106.0          0\n",
       "2   5.3  121.0          0\n",
       "3   7.4  132.0          1\n",
       "4   5.8  142.0          0"
      ]
     },
     "execution_count": 4,
     "metadata": {},
     "output_type": "execute_result"
    }
   ],
   "source": [
    "df = pd.read_csv('https://raw.githubusercontent.com/Unstopable18/Datasets/main/student-placement.csv')\n",
    "df.head()"
   ]
  },
  {
   "cell_type": "code",
   "execution_count": 5,
   "metadata": {},
   "outputs": [],
   "source": [
    "def initialize_parameters(layer_dims):\n",
    "    np.random.seed(3)\n",
    "    parameters = {}\n",
    "    L = len(layer_dims)         \n",
    "    for l in range(1, L):\n",
    "        parameters['W' + str(l)] = np.ones((layer_dims[l-1], layer_dims[l]))*0.1\n",
    "        parameters['b' + str(l)] = np.zeros((layer_dims[l], 1))\n",
    "    return parameters\n",
    "\n",
    "def sigmoid(Z):\n",
    "    A = 1/(1+np.exp(-Z))\n",
    "    return A\n",
    "\n",
    "def linear_forward(A_prev, W, b):\n",
    "    Z = np.dot(W.T, A_prev) + b\n",
    "    A = sigmoid(Z)\n",
    "    return A\n",
    "    \n",
    "def L_layer_forward(X, parameters):\n",
    "    A = X\n",
    "    L = len(parameters) // 2  # number of layers in the neural network   \n",
    "    for l in range(1, L+1):\n",
    "        A_prev = A \n",
    "        Wl = parameters['W' + str(l)]\n",
    "        bl = parameters['b' + str(l)]\n",
    "        #print(\"A\"+str(l-1)+\": \", A_prev)\n",
    "        #print(\"W\"+str(l)+\": \", Wl)\n",
    "        #print(\"b\"+str(l)+\": \", bl)\n",
    "        #print(\"--\"*20)\n",
    "        A = linear_forward(A_prev, Wl, bl)\n",
    "        #print(\"A\"+str(l)+\": \", A)\n",
    "        #print(\"**\"*20)           \n",
    "    return A,A_prev\n",
    "\n",
    "def update_parameters(parameters,y,y_hat,A1,X):\n",
    "    parameters['W2'][0][0] = parameters['W2'][0][0] + (0.0001 * (y - y_hat)*A1[0][0])\n",
    "    parameters['W2'][1][0] = parameters['W2'][1][0] + (0.0001 * (y - y_hat)*A1[1][0])\n",
    "    parameters['b2'][0][0] = parameters['W2'][1][0] + (0.0001 * (y - y_hat))\n",
    "\n",
    "    parameters['W1'][0][0] = parameters['W1'][0][0] + (0.0001 * (y - y_hat)*parameters['W2'][0][0]*A1[0][0]*(1-A1[0][0])*X[0][0])\n",
    "    parameters['W1'][0][1] = parameters['W1'][0][1] + (0.0001 * (y - y_hat)*parameters['W2'][0][0]*A1[0][0]*(1-A1[0][0])*X[1][0])\n",
    "    parameters['b1'][0][0] = parameters['b1'][0][0] + (0.0001 * (y - y_hat)*parameters['W2'][0][0]*A1[0][0]*(1-A1[0][0]))\n",
    "\n",
    "    parameters['W1'][1][0] = parameters['W1'][1][0] + (0.0001 * (y - y_hat)*parameters['W2'][1][0]*A1[1][0]*(1-A1[1][0])*X[0][0])\n",
    "    parameters['W1'][1][1] = parameters['W1'][1][1] + (0.0001 * (y - y_hat)*parameters['W2'][1][0]*A1[1][0]*(1-A1[1][0])*X[1][0])\n",
    "    parameters['b1'][1][0] = parameters['b1'][1][0] + (0.0001 * (y - y_hat)*parameters['W2'][1][0]*A1[1][0]*(1-A1[1][0]))"
   ]
  },
  {
   "cell_type": "code",
   "execution_count": 6,
   "metadata": {},
   "outputs": [
    {
     "name": "stdout",
     "output_type": "stream",
     "text": [
      "Epoch -  1 Loss -  0.7047541601778821\n",
      "Epoch -  2 Loss -  0.7041526092673274\n",
      "Epoch -  3 Loss -  0.7039914991601176\n",
      "Epoch -  4 Loss -  0.7038327329626297\n",
      "Epoch -  5 Loss -  0.7036762772853051\n",
      "Epoch -  6 Loss -  0.703522099193322\n",
      "Epoch -  7 Loss -  0.7033701662010103\n",
      "Epoch -  8 Loss -  0.7032204462663166\n",
      "Epoch -  9 Loss -  0.7030729077853215\n",
      "Epoch -  10 Loss -  0.7029275195868052\n",
      "Epoch -  11 Loss -  0.7027842509268675\n",
      "Epoch -  12 Loss -  0.7026430714835951\n",
      "Epoch -  13 Loss -  0.7025039513517836\n",
      "Epoch -  14 Loss -  0.7023668610377061\n",
      "Epoch -  15 Loss -  0.7022317714539378\n",
      "Epoch -  16 Loss -  0.7020986539142272\n",
      "Epoch -  17 Loss -  0.7019674801284207\n",
      "Epoch -  18 Loss -  0.7018382221974361\n",
      "Epoch -  19 Loss -  0.7017108526082894\n",
      "Epoch -  20 Loss -  0.7015853442291692\n",
      "Epoch -  21 Loss -  0.7014616703045645\n",
      "Epoch -  22 Loss -  0.7013398044504398\n",
      "Epoch -  23 Loss -  0.7012197206494629\n",
      "Epoch -  24 Loss -  0.7011013932462812\n",
      "Epoch -  25 Loss -  0.7009847969428487\n",
      "Epoch -  26 Loss -  0.7008699067938009\n",
      "Epoch -  27 Loss -  0.7007566982018844\n",
      "Epoch -  28 Loss -  0.7006451469134265\n",
      "Epoch -  29 Loss -  0.7005352290138631\n",
      "Epoch -  30 Loss -  0.70042692092331\n",
      "Epoch -  31 Loss -  0.700320199392185\n",
      "Epoch -  32 Loss -  0.7002150414968757\n",
      "Epoch -  33 Loss -  0.7001114246354601\n",
      "Epoch -  34 Loss -  0.700009326523469\n",
      "Epoch -  35 Loss -  0.699908725189701\n",
      "Epoch -  36 Loss -  0.6998095989720818\n",
      "Epoch -  37 Loss -  0.6997119265135712\n",
      "Epoch -  38 Loss -  0.6996156867581169\n",
      "Epoch -  39 Loss -  0.6995208589466556\n",
      "Epoch -  40 Loss -  0.6994274226131567\n",
      "Epoch -  41 Loss -  0.6993353575807164\n",
      "Epoch -  42 Loss -  0.699244643957694\n",
      "Epoch -  43 Loss -  0.6991552621338932\n",
      "Epoch -  44 Loss -  0.6990671927767914\n",
      "Epoch -  45 Loss -  0.698980416827808\n",
      "Epoch -  46 Loss -  0.6988949154986231\n",
      "Epoch -  47 Loss -  0.698810670267534\n",
      "Epoch -  48 Loss -  0.6987276628758597\n",
      "Epoch -  49 Loss -  0.6986458753243855\n",
      "Epoch -  50 Loss -  0.6985652898698517\n"
     ]
    },
    {
     "data": {
      "text/plain": [
       "{'W1': array([[0.10001546, 0.10002374],\n",
       "        [0.10001546, 0.10002374]]),\n",
       " 'b1': array([[1.09379987e-06],\n",
       "        [1.09388257e-06]]),\n",
       " 'W2': array([[0.06892709],\n",
       "        [0.06892709]]),\n",
       " 'b2': array([[0.06897194]])}"
      ]
     },
     "execution_count": 6,
     "metadata": {},
     "output_type": "execute_result"
    }
   ],
   "source": [
    "# epochs implementation\n",
    "\n",
    "# Parameter initialization\n",
    "#here, [2,2,1]=[no of features Entry,Activation layer 1 nodes,output layer nodes]\n",
    "#------------------> (since, here we have only one hidden layer = Activation layer 1)\n",
    "parameters = initialize_parameters([2,2,1])\n",
    "epochs = 50\n",
    "\n",
    "for i in range(epochs):\n",
    "\n",
    "  Loss = []\n",
    "\n",
    "  for j in range(df.shape[0]):\n",
    "\n",
    "    X = df[['cgpa', 'iq']].values[j].reshape(2,1) #Shape(no of features, no. of training example)\n",
    "    y = df[['placement']].values[j][0]\n",
    "\n",
    "    y_hat,A1 = L_layer_forward(X,parameters) #Forward Propagation\n",
    "    y_hat = y_hat[0][0] #Get y_hat value\n",
    "\n",
    "    update_parameters(parameters,y,y_hat,A1,X) #Gradient Descent to update weights and biases\n",
    "\n",
    "    Loss.append(-y*np.log(y_hat) - (1-y)*np.log(1-y_hat)) #Calculate loss BCE\n",
    "\n",
    "  print('Epoch - ',i+1,'Loss - ',np.array(Loss).mean()) #Calculate Avg loss for epoch\n",
    "\n",
    "parameters"
   ]
  },
  {
   "attachments": {},
   "cell_type": "markdown",
   "metadata": {},
   "source": [
    "# With Keras "
   ]
  },
  {
   "cell_type": "code",
   "execution_count": 7,
   "metadata": {},
   "outputs": [],
   "source": [
    "from tensorflow import keras\n",
    "from tensorflow.keras import Sequential \n",
    "from tensorflow.keras.layers import Dense"
   ]
  },
  {
   "cell_type": "code",
   "execution_count": 8,
   "metadata": {},
   "outputs": [],
   "source": [
    "model=Sequential()\n",
    "model.add(Dense(2,activation='sigmoid',input_dim=2))\n",
    "model.add(Dense(1,activation='sigmoid'))"
   ]
  },
  {
   "cell_type": "code",
   "execution_count": 9,
   "metadata": {},
   "outputs": [
    {
     "name": "stdout",
     "output_type": "stream",
     "text": [
      "Model: \"sequential\"\n",
      "_________________________________________________________________\n",
      " Layer (type)                Output Shape              Param #   \n",
      "=================================================================\n",
      " dense (Dense)               (None, 2)                 6         \n",
      "                                                                 \n",
      " dense_1 (Dense)             (None, 1)                 3         \n",
      "                                                                 \n",
      "=================================================================\n",
      "Total params: 9\n",
      "Trainable params: 9\n",
      "Non-trainable params: 0\n",
      "_________________________________________________________________\n"
     ]
    }
   ],
   "source": [
    "model.summary()"
   ]
  },
  {
   "cell_type": "code",
   "execution_count": 10,
   "metadata": {},
   "outputs": [
    {
     "data": {
      "text/plain": [
       "[array([[ 0.48569965, -0.44668323],\n",
       "        [-0.75351715,  0.39725375]], dtype=float32),\n",
       " array([0., 0.], dtype=float32),\n",
       " array([[ 1.1274697 ],\n",
       "        [-0.83344483]], dtype=float32),\n",
       " array([0.], dtype=float32)]"
      ]
     },
     "execution_count": 10,
     "metadata": {},
     "output_type": "execute_result"
    }
   ],
   "source": [
    "model.get_weights()"
   ]
  },
  {
   "cell_type": "code",
   "execution_count": 11,
   "metadata": {},
   "outputs": [],
   "source": [
    "model.set_weights([np.array([[0.1 ,  0.1 ],\n",
    "        [ 0.1, 0.1 ]], dtype='float32'),\n",
    " np.array([0., 0.], dtype='float32'),\n",
    " np.array([[0.1],\n",
    "        [0.1]], dtype='float32'),\n",
    " np.array([0.], dtype='float32')])"
   ]
  },
  {
   "cell_type": "code",
   "execution_count": 12,
   "metadata": {},
   "outputs": [],
   "source": [
    "optimizer=keras.optimizers.Adam(learning_rate=0.001)\n",
    "model.compile(optimizer=optimizer,loss='binary_crossentropy')"
   ]
  },
  {
   "cell_type": "code",
   "execution_count": 15,
   "metadata": {},
   "outputs": [
    {
     "name": "stdout",
     "output_type": "stream",
     "text": [
      "Epoch 1/50\n",
      "100/100 [==============================] - 0s 3ms/step - loss: 0.6940\n",
      "Epoch 2/50\n",
      "100/100 [==============================] - 0s 2ms/step - loss: 0.6933\n",
      "Epoch 3/50\n",
      "100/100 [==============================] - 0s 2ms/step - loss: 0.6938\n",
      "Epoch 4/50\n",
      "100/100 [==============================] - 0s 4ms/step - loss: 0.6942\n",
      "Epoch 5/50\n",
      "100/100 [==============================] - 0s 2ms/step - loss: 0.6939\n",
      "Epoch 6/50\n",
      "100/100 [==============================] - 0s 3ms/step - loss: 0.6934\n",
      "Epoch 7/50\n",
      "100/100 [==============================] - 0s 4ms/step - loss: 0.6934\n",
      "Epoch 8/50\n",
      "100/100 [==============================] - 0s 3ms/step - loss: 0.6939\n",
      "Epoch 9/50\n",
      "100/100 [==============================] - 0s 3ms/step - loss: 0.6940\n",
      "Epoch 10/50\n",
      "100/100 [==============================] - 0s 2ms/step - loss: 0.6940\n",
      "Epoch 11/50\n",
      "100/100 [==============================] - 0s 2ms/step - loss: 0.6936\n",
      "Epoch 12/50\n",
      "100/100 [==============================] - 0s 3ms/step - loss: 0.6942\n",
      "Epoch 13/50\n",
      "100/100 [==============================] - 0s 2ms/step - loss: 0.6937\n",
      "Epoch 14/50\n",
      "100/100 [==============================] - 0s 2ms/step - loss: 0.6941\n",
      "Epoch 15/50\n",
      "100/100 [==============================] - 0s 2ms/step - loss: 0.6935\n",
      "Epoch 16/50\n",
      "100/100 [==============================] - 0s 2ms/step - loss: 0.6936\n",
      "Epoch 17/50\n",
      "100/100 [==============================] - 0s 2ms/step - loss: 0.6935\n",
      "Epoch 18/50\n",
      "100/100 [==============================] - 0s 2ms/step - loss: 0.6950\n",
      "Epoch 19/50\n",
      "100/100 [==============================] - 0s 1ms/step - loss: 0.6937\n",
      "Epoch 20/50\n",
      "100/100 [==============================] - 0s 2ms/step - loss: 0.6936\n",
      "Epoch 21/50\n",
      "100/100 [==============================] - 0s 2ms/step - loss: 0.6940\n",
      "Epoch 22/50\n",
      "100/100 [==============================] - 0s 2ms/step - loss: 0.6939\n",
      "Epoch 23/50\n",
      "100/100 [==============================] - 0s 2ms/step - loss: 0.6935\n",
      "Epoch 24/50\n",
      "100/100 [==============================] - 0s 2ms/step - loss: 0.6939\n",
      "Epoch 25/50\n",
      "100/100 [==============================] - 1s 5ms/step - loss: 0.6941\n",
      "Epoch 26/50\n",
      "100/100 [==============================] - 0s 4ms/step - loss: 0.6937\n",
      "Epoch 27/50\n",
      "100/100 [==============================] - 0s 3ms/step - loss: 0.6936\n",
      "Epoch 28/50\n",
      "100/100 [==============================] - 0s 3ms/step - loss: 0.6936\n",
      "Epoch 29/50\n",
      "100/100 [==============================] - 0s 3ms/step - loss: 0.6939\n",
      "Epoch 30/50\n",
      "100/100 [==============================] - 0s 2ms/step - loss: 0.6937\n",
      "Epoch 31/50\n",
      "100/100 [==============================] - 0s 2ms/step - loss: 0.6939\n",
      "Epoch 32/50\n",
      "100/100 [==============================] - 0s 2ms/step - loss: 0.6936\n",
      "Epoch 33/50\n",
      "100/100 [==============================] - 0s 2ms/step - loss: 0.6936\n",
      "Epoch 34/50\n",
      "100/100 [==============================] - 0s 2ms/step - loss: 0.6937\n",
      "Epoch 35/50\n",
      "100/100 [==============================] - 0s 3ms/step - loss: 0.6936\n",
      "Epoch 36/50\n",
      "100/100 [==============================] - 0s 4ms/step - loss: 0.6938\n",
      "Epoch 37/50\n",
      "100/100 [==============================] - 0s 2ms/step - loss: 0.6935\n",
      "Epoch 38/50\n",
      "100/100 [==============================] - 0s 3ms/step - loss: 0.6937\n",
      "Epoch 39/50\n",
      "100/100 [==============================] - 0s 2ms/step - loss: 0.6938\n",
      "Epoch 40/50\n",
      "100/100 [==============================] - 0s 2ms/step - loss: 0.6939\n",
      "Epoch 41/50\n",
      "100/100 [==============================] - 0s 2ms/step - loss: 0.6935\n",
      "Epoch 42/50\n",
      "100/100 [==============================] - 0s 2ms/step - loss: 0.6936\n",
      "Epoch 43/50\n",
      "100/100 [==============================] - 0s 2ms/step - loss: 0.6937\n",
      "Epoch 44/50\n",
      "100/100 [==============================] - 0s 2ms/step - loss: 0.6943\n",
      "Epoch 45/50\n",
      "100/100 [==============================] - 0s 2ms/step - loss: 0.6939\n",
      "Epoch 46/50\n",
      "100/100 [==============================] - 0s 2ms/step - loss: 0.6939\n",
      "Epoch 47/50\n",
      "100/100 [==============================] - 0s 2ms/step - loss: 0.6937\n",
      "Epoch 48/50\n",
      "100/100 [==============================] - 0s 4ms/step - loss: 0.6936\n",
      "Epoch 49/50\n",
      "100/100 [==============================] - 0s 2ms/step - loss: 0.6938\n",
      "Epoch 50/50\n",
      "100/100 [==============================] - 0s 2ms/step - loss: 0.6939\n"
     ]
    }
   ],
   "source": [
    "X = df[['cgpa', 'iq']]\n",
    "y = df[['placement']]\n",
    "history=model.fit(X,y,epochs=50,verbose=1,batch_size=1)"
   ]
  },
  {
   "cell_type": "code",
   "execution_count": 16,
   "metadata": {},
   "outputs": [
    {
     "data": {
      "text/plain": [
       "[array([[0.35064086, 0.35064086],\n",
       "        [0.23422213, 0.23422213]], dtype=float32),\n",
       " array([0.14940648, 0.14940648], dtype=float32),\n",
       " array([[0.03205844],\n",
       "        [0.03205844]], dtype=float32),\n",
       " array([-0.0678046], dtype=float32)]"
      ]
     },
     "execution_count": 16,
     "metadata": {},
     "output_type": "execute_result"
    }
   ],
   "source": [
    "model.get_weights()"
   ]
  },
  {
   "cell_type": "code",
   "execution_count": null,
   "metadata": {},
   "outputs": [],
   "source": []
  }
 ],
 "metadata": {
  "kernelspec": {
   "display_name": "openvino_env",
   "language": "python",
   "name": "python3"
  },
  "language_info": {
   "codemirror_mode": {
    "name": "ipython",
    "version": 3
   },
   "file_extension": ".py",
   "mimetype": "text/x-python",
   "name": "python",
   "nbconvert_exporter": "python",
   "pygments_lexer": "ipython3",
   "version": "3.10.0"
  },
  "orig_nbformat": 4,
  "vscode": {
   "interpreter": {
    "hash": "0104a31503cc31c58545096f1de32d3ebd5a8dd5a3ce552d8570e05c0378b4b3"
   }
  }
 },
 "nbformat": 4,
 "nbformat_minor": 2
}
