{
 "cells": [
  {
   "attachments": {},
   "cell_type": "markdown",
   "metadata": {},
   "source": [
    "# ANN for Digit Recogniation \n",
    "### (Sparse Categorical Cross Entropy)"
   ]
  },
  {
   "cell_type": "code",
   "execution_count": 1,
   "metadata": {},
   "outputs": [],
   "source": [
    "import tensorflow\n",
    "from tensorflow import keras\n",
    "from tensorflow.keras import Sequential\n",
    "from tensorflow.keras.layers import Dense,Flatten\n",
    "import matplotlib.pyplot as plt\n",
    "from sklearn.metrics import accuracy_score"
   ]
  },
  {
   "cell_type": "code",
   "execution_count": 2,
   "metadata": {},
   "outputs": [],
   "source": [
    "(X_train,y_train),(X_test,y_test)=keras.datasets.mnist.load_data()"
   ]
  },
  {
   "cell_type": "code",
   "execution_count": 3,
   "metadata": {},
   "outputs": [
    {
     "data": {
      "text/plain": [
       "(60000, 28, 28)"
      ]
     },
     "execution_count": 3,
     "metadata": {},
     "output_type": "execute_result"
    }
   ],
   "source": [
    "X_train.shape"
   ]
  },
  {
   "cell_type": "code",
   "execution_count": 4,
   "metadata": {},
   "outputs": [
    {
     "data": {
      "text/plain": [
       "<matplotlib.image.AxesImage at 0x202ebe1e770>"
      ]
     },
     "execution_count": 4,
     "metadata": {},
     "output_type": "execute_result"
    },
    {
     "data": {
      "image/png": "[encoded data removed]",
      "text/plain": [
       "<Figure size 640x480 with 1 Axes>"
      ]
     },
     "metadata": {},
     "output_type": "display_data"
    }
   ],
   "source": [
    "plt.imshow(X_train[0])"
   ]
  },
  {
   "cell_type": "code",
   "execution_count": 5,
   "metadata": {},
   "outputs": [],
   "source": [
    "model=Sequential()\n",
    "model.add(Flatten(input_shape=(28,28)))\n",
    "model.add(Dense(128,activation='relu'))\n",
    "model.add(Dense(32,activation='relu'))\n",
    "model.add(Dense(10,activation='softmax'))"
   ]
  },
  {
   "cell_type": "code",
   "execution_count": 6,
   "metadata": {},
   "outputs": [
    {
     "name": "stdout",
     "output_type": "stream",
     "text": [
      "Model: \"sequential\"\n",
      "_________________________________________________________________\n",
      " Layer (type)                Output Shape              Param #   \n",
      "=================================================================\n",
      " flatten (Flatten)           (None, 784)               0         \n",
      "                                                                 \n",
      " dense (Dense)               (None, 128)               100480    \n",
      "                                                                 \n",
      " dense_1 (Dense)             (None, 32)                4128      \n",
      "                                                                 \n",
      " dense_2 (Dense)             (None, 10)                330       \n",
      "                                                                 \n",
      "=================================================================\n",
      "Total params: 104,938\n",
      "Trainable params: 104,938\n",
      "Non-trainable params: 0\n",
      "_________________________________________________________________\n"
     ]
    }
   ],
   "source": [
    "model.summary()"
   ]
  },
  {
   "cell_type": "code",
   "execution_count": 7,
   "metadata": {},
   "outputs": [],
   "source": [
    "model.compile(loss='sparse_categorical_crossentropy',optimizer='Adam',metrics=['accuracy'])"
   ]
  },
  {
   "cell_type": "code",
   "execution_count": 8,
   "metadata": {},
   "outputs": [
    {
     "name": "stdout",
     "output_type": "stream",
     "text": [
      "Epoch 1/25\n",
      "1500/1500 [==============================] - 21s 11ms/step - loss: 1.7166 - accuracy: 0.6666 - val_loss: 0.7957 - val_accuracy: 0.8023\n",
      "Epoch 2/25\n",
      "1500/1500 [==============================] - 14s 9ms/step - loss: 0.6448 - accuracy: 0.8491 - val_loss: 0.4756 - val_accuracy: 0.8887\n",
      "Epoch 3/25\n",
      "1500/1500 [==============================] - 13s 9ms/step - loss: 0.4024 - accuracy: 0.9078 - val_loss: 0.4059 - val_accuracy: 0.9191\n",
      "Epoch 4/25\n",
      "1500/1500 [==============================] - 14s 9ms/step - loss: 0.3058 - accuracy: 0.9300 - val_loss: 0.2634 - val_accuracy: 0.9442\n",
      "Epoch 5/25\n",
      "1500/1500 [==============================] - 14s 10ms/step - loss: 0.2461 - accuracy: 0.9421 - val_loss: 0.2299 - val_accuracy: 0.9509\n",
      "Epoch 6/25\n",
      "1500/1500 [==============================] - 13s 8ms/step - loss: 0.2032 - accuracy: 0.9520 - val_loss: 0.2011 - val_accuracy: 0.9557\n",
      "Epoch 7/25\n",
      "1500/1500 [==============================] - 15s 10ms/step - loss: 0.1669 - accuracy: 0.9595 - val_loss: 0.1891 - val_accuracy: 0.9574\n",
      "Epoch 8/25\n",
      "1500/1500 [==============================] - 13s 9ms/step - loss: 0.1535 - accuracy: 0.9626 - val_loss: 0.2146 - val_accuracy: 0.9581\n",
      "Epoch 9/25\n",
      "1500/1500 [==============================] - 13s 9ms/step - loss: 0.1290 - accuracy: 0.9683 - val_loss: 0.1762 - val_accuracy: 0.9577\n",
      "Epoch 10/25\n",
      "1500/1500 [==============================] - 12s 8ms/step - loss: 0.1129 - accuracy: 0.9715 - val_loss: 0.1683 - val_accuracy: 0.9611\n",
      "Epoch 11/25\n",
      "1500/1500 [==============================] - 10s 7ms/step - loss: 0.1018 - accuracy: 0.9750 - val_loss: 0.1816 - val_accuracy: 0.9614\n",
      "Epoch 12/25\n",
      "1500/1500 [==============================] - 10s 7ms/step - loss: 0.0919 - accuracy: 0.9766 - val_loss: 0.1695 - val_accuracy: 0.9607\n",
      "Epoch 13/25\n",
      "1500/1500 [==============================] - 12s 8ms/step - loss: 0.0909 - accuracy: 0.9770 - val_loss: 0.1715 - val_accuracy: 0.9638\n",
      "Epoch 14/25\n",
      "1500/1500 [==============================] - 13s 9ms/step - loss: 0.0790 - accuracy: 0.9801 - val_loss: 0.1672 - val_accuracy: 0.9672\n",
      "Epoch 15/25\n",
      "1500/1500 [==============================] - 12s 8ms/step - loss: 0.0764 - accuracy: 0.9816 - val_loss: 0.1852 - val_accuracy: 0.9668\n",
      "Epoch 16/25\n",
      "1500/1500 [==============================] - 9s 6ms/step - loss: 0.0681 - accuracy: 0.9837 - val_loss: 0.1700 - val_accuracy: 0.9682\n",
      "Epoch 17/25\n",
      "1500/1500 [==============================] - 10s 7ms/step - loss: 0.0763 - accuracy: 0.9824 - val_loss: 0.1750 - val_accuracy: 0.9681\n",
      "Epoch 18/25\n",
      "1500/1500 [==============================] - 9s 6ms/step - loss: 0.0677 - accuracy: 0.9838 - val_loss: 0.2200 - val_accuracy: 0.9658\n",
      "Epoch 19/25\n",
      "1500/1500 [==============================] - 9s 6ms/step - loss: 0.0680 - accuracy: 0.9839 - val_loss: 0.2227 - val_accuracy: 0.9659\n",
      "Epoch 20/25\n",
      "1500/1500 [==============================] - 9s 6ms/step - loss: 0.0577 - accuracy: 0.9872 - val_loss: 0.1767 - val_accuracy: 0.9701\n",
      "Epoch 21/25\n",
      "1500/1500 [==============================] - 8s 6ms/step - loss: 0.0599 - accuracy: 0.9866 - val_loss: 0.1911 - val_accuracy: 0.9678\n",
      "Epoch 22/25\n",
      "1500/1500 [==============================] - 10s 6ms/step - loss: 0.0542 - accuracy: 0.9877 - val_loss: 0.1946 - val_accuracy: 0.9703\n",
      "Epoch 23/25\n",
      "1500/1500 [==============================] - 9s 6ms/step - loss: 0.0637 - accuracy: 0.9862 - val_loss: 0.2098 - val_accuracy: 0.9692\n",
      "Epoch 24/25\n",
      "1500/1500 [==============================] - 9s 6ms/step - loss: 0.0521 - accuracy: 0.9889 - val_loss: 0.2364 - val_accuracy: 0.9679\n",
      "Epoch 25/25\n",
      "1500/1500 [==============================] - 9s 6ms/step - loss: 0.0530 - accuracy: 0.9886 - val_loss: 0.2471 - val_accuracy: 0.9694\n"
     ]
    }
   ],
   "source": [
    "history=model.fit(X_train,y_train,epochs=25,validation_split=0.2)"
   ]
  },
  {
   "cell_type": "code",
   "execution_count": 9,
   "metadata": {},
   "outputs": [
    {
     "name": "stdout",
     "output_type": "stream",
     "text": [
      "313/313 [==============================] - 1s 4ms/step\n"
     ]
    }
   ],
   "source": [
    "y_prob=model.predict(X_test)"
   ]
  },
  {
   "cell_type": "code",
   "execution_count": 10,
   "metadata": {},
   "outputs": [
    {
     "data": {
      "text/plain": [
       "array([7, 2, 1, ..., 4, 5, 6], dtype=int64)"
      ]
     },
     "execution_count": 10,
     "metadata": {},
     "output_type": "execute_result"
    }
   ],
   "source": [
    "y_pred=y_prob.argmax(axis=1)\n",
    "y_pred"
   ]
  },
  {
   "cell_type": "code",
   "execution_count": 11,
   "metadata": {},
   "outputs": [
    {
     "data": {
      "text/plain": [
       "0.969"
      ]
     },
     "execution_count": 11,
     "metadata": {},
     "output_type": "execute_result"
    }
   ],
   "source": [
    "accuracy_score(y_test,y_pred)"
   ]
  },
  {
   "cell_type": "code",
   "execution_count": 12,
   "metadata": {},
   "outputs": [
    {
     "data": {
      "text/plain": [
       "[<matplotlib.lines.Line2D at 0x202f39e9720>]"
      ]
     },
     "execution_count": 12,
     "metadata": {},
     "output_type": "execute_result"
    },
    {
     "data": {
      "image/png": "[encoded data removed]",
      "text/plain": [
       "<Figure size 640x480 with 1 Axes>"
      ]
     },
     "metadata": {},
     "output_type": "display_data"
    }
   ],
   "source": [
    "plt.plot(history.history['loss'])\n",
    "plt.plot(history.history['val_loss'])"
   ]
  },
  {
   "cell_type": "code",
   "execution_count": 13,
   "metadata": {},
   "outputs": [
    {
     "data": {
      "text/plain": [
       "[<matplotlib.lines.Line2D at 0x202f3a862c0>]"
      ]
     },
     "execution_count": 13,
     "metadata": {},
     "output_type": "execute_result"
    },
    {
     "data": {
      "image/png": "[encoded data removed]",
      "text/plain": [
       "<Figure size 640x480 with 1 Axes>"
      ]
     },
     "metadata": {},
     "output_type": "display_data"
    }
   ],
   "source": [
    "plt.plot(history.history['accuracy'])\n",
    "plt.plot(history.history['val_accuracy'])"
   ]
  },
  {
   "cell_type": "code",
   "execution_count": 14,
   "metadata": {},
   "outputs": [
    {
     "data": {
      "text/plain": [
       "<matplotlib.image.AxesImage at 0x202f5b990c0>"
      ]
     },
     "execution_count": 14,
     "metadata": {},
     "output_type": "execute_result"
    },
    {
     "data": {
      "image/png": "[encoded data removed]",
      "text/plain": [
       "<Figure size 640x480 with 1 Axes>"
      ]
     },
     "metadata": {},
     "output_type": "display_data"
    }
   ],
   "source": [
    "plt.imshow(X_test[12])"
   ]
  },
  {
   "cell_type": "code",
   "execution_count": 15,
   "metadata": {},
   "outputs": [
    {
     "name": "stdout",
     "output_type": "stream",
     "text": [
      "1/1 [==============================] - 0s 27ms/step\n",
      "Predicted No. --->  9\n"
     ]
    }
   ],
   "source": [
    "print('Predicted No. ---> ',model.predict(X_test[12].reshape(1,28,28)).argmax(axis=1)[0])"
   ]
  },
  {
   "cell_type": "code",
   "execution_count": null,
   "metadata": {},
   "outputs": [],
   "source": []
  }
 ],
 "metadata": {
  "kernelspec": {
   "display_name": "openvino_env",
   "language": "python",
   "name": "python3"
  },
  "language_info": {
   "codemirror_mode": {
    "name": "ipython",
    "version": 3
   },
   "file_extension": ".py",
   "mimetype": "text/x-python",
   "name": "python",
   "nbconvert_exporter": "python",
   "pygments_lexer": "ipython3",
   "version": "3.10.0"
  },
  "orig_nbformat": 4,
  "vscode": {
   "interpreter": {
    "hash": "0104a31503cc31c58545096f1de32d3ebd5a8dd5a3ce552d8570e05c0378b4b3"
   }
  }
 },
 "nbformat": 4,
 "nbformat_minor": 2
}
