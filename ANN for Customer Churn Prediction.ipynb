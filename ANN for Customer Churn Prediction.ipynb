{
 "cells": [
  {
   "cell_type": "code",
   "execution_count": 1,
   "id": "94efc03b",
   "metadata": {},
   "outputs": [],
   "source": [
    "import tensorflow\n",
    "import numpy as np\n",
    "import pandas as pd\n",
    "from sklearn.model_selection import train_test_split\n",
    "from sklearn.preprocessing import StandardScaler\n",
    "import tensorflow\n",
    "from tensorflow import keras\n",
    "from tensorflow.keras import Sequential \n",
    "from tensorflow.keras.layers import Dense\n",
    "from sklearn.metrics import accuracy_score\n",
    "import matplotlib.pyplot as plt"
   ]
  },
  {
   "cell_type": "code",
   "execution_count": 2,
   "id": "3ccebd84",
   "metadata": {},
   "outputs": [],
   "source": [
    "df=pd.read_csv('https://raw.githubusercontent.com/Unstopable18/Datasets/main/Churn_Modelling.csv')"
   ]
  },
  {
   "cell_type": "code",
   "execution_count": 3,
   "id": "44b5e4f0",
   "metadata": {},
   "outputs": [
    {
     "name": "stdout",
     "output_type": "stream",
     "text": [
      "<class 'pandas.core.frame.DataFrame'>\n",
      "RangeIndex: 10000 entries, 0 to 9999\n",
      "Data columns (total 14 columns):\n",
      " #   Column           Non-Null Count  Dtype  \n",
      "---  ------           --------------  -----  \n",
      " 0   RowNumber        10000 non-null  int64  \n",
      " 1   CustomerId       10000 non-null  int64  \n",
      " 2   Surname          10000 non-null  object \n",
      " 3   CreditScore      10000 non-null  int64  \n",
      " 4   Geography        10000 non-null  object \n",
      " 5   Gender           10000 non-null  object \n",
      " 6   Age              10000 non-null  int64  \n",
      " 7   Tenure           10000 non-null  int64  \n",
      " 8   Balance          10000 non-null  float64\n",
      " 9   NumOfProducts    10000 non-null  int64  \n",
      " 10  HasCrCard        10000 non-null  int64  \n",
      " 11  IsActiveMember   10000 non-null  int64  \n",
      " 12  EstimatedSalary  10000 non-null  float64\n",
      " 13  Exited           10000 non-null  int64  \n",
      "dtypes: float64(2), int64(9), object(3)\n",
      "memory usage: 1.1+ MB\n"
     ]
    }
   ],
   "source": [
    "df.info()"
   ]
  },
  {
   "cell_type": "code",
   "execution_count": 4,
   "id": "372e94cb",
   "metadata": {},
   "outputs": [],
   "source": [
    "df.drop(columns=['RowNumber','CustomerId','Surname'],inplace=True)"
   ]
  },
  {
   "cell_type": "code",
   "execution_count": 5,
   "id": "e0555dbe",
   "metadata": {},
   "outputs": [
    {
     "name": "stdout",
     "output_type": "stream",
     "text": [
      "<class 'pandas.core.frame.DataFrame'>\n",
      "RangeIndex: 10000 entries, 0 to 9999\n",
      "Data columns (total 11 columns):\n",
      " #   Column           Non-Null Count  Dtype  \n",
      "---  ------           --------------  -----  \n",
      " 0   CreditScore      10000 non-null  int64  \n",
      " 1   Geography        10000 non-null  object \n",
      " 2   Gender           10000 non-null  object \n",
      " 3   Age              10000 non-null  int64  \n",
      " 4   Tenure           10000 non-null  int64  \n",
      " 5   Balance          10000 non-null  float64\n",
      " 6   NumOfProducts    10000 non-null  int64  \n",
      " 7   HasCrCard        10000 non-null  int64  \n",
      " 8   IsActiveMember   10000 non-null  int64  \n",
      " 9   EstimatedSalary  10000 non-null  float64\n",
      " 10  Exited           10000 non-null  int64  \n",
      "dtypes: float64(2), int64(7), object(2)\n",
      "memory usage: 859.5+ KB\n"
     ]
    }
   ],
   "source": [
    "df.info()"
   ]
  },
  {
   "cell_type": "code",
   "execution_count": 6,
   "id": "372f9be5",
   "metadata": {},
   "outputs": [
    {
     "data": {
      "text/html": [
       "<div>\n",
       "<style scoped>\n",
       "    .dataframe tbody tr th:only-of-type {\n",
       "        vertical-align: middle;\n",
       "    }\n",
       "\n",
       "    .dataframe tbody tr th {\n",
       "        vertical-align: top;\n",
       "    }\n",
       "\n",
       "    .dataframe thead th {\n",
       "        text-align: right;\n",
       "    }\n",
       "</style>\n",
       "<table border=\"1\" class=\"dataframe\">\n",
       "  <thead>\n",
       "    <tr style=\"text-align: right;\">\n",
       "      <th></th>\n",
       "      <th>CreditScore</th>\n",
       "      <th>Geography</th>\n",
       "      <th>Gender</th>\n",
       "      <th>Age</th>\n",
       "      <th>Tenure</th>\n",
       "      <th>Balance</th>\n",
       "      <th>NumOfProducts</th>\n",
       "      <th>HasCrCard</th>\n",
       "      <th>IsActiveMember</th>\n",
       "      <th>EstimatedSalary</th>\n",
       "      <th>Exited</th>\n",
       "    </tr>\n",
       "  </thead>\n",
       "  <tbody>\n",
       "    <tr>\n",
       "      <th>3691</th>\n",
       "      <td>590</td>\n",
       "      <td>France</td>\n",
       "      <td>Female</td>\n",
       "      <td>76</td>\n",
       "      <td>5</td>\n",
       "      <td>160979.68</td>\n",
       "      <td>1</td>\n",
       "      <td>0</td>\n",
       "      <td>1</td>\n",
       "      <td>13848.58</td>\n",
       "      <td>0</td>\n",
       "    </tr>\n",
       "    <tr>\n",
       "      <th>918</th>\n",
       "      <td>784</td>\n",
       "      <td>Spain</td>\n",
       "      <td>Male</td>\n",
       "      <td>35</td>\n",
       "      <td>3</td>\n",
       "      <td>0.00</td>\n",
       "      <td>2</td>\n",
       "      <td>0</td>\n",
       "      <td>0</td>\n",
       "      <td>81483.64</td>\n",
       "      <td>0</td>\n",
       "    </tr>\n",
       "    <tr>\n",
       "      <th>8620</th>\n",
       "      <td>768</td>\n",
       "      <td>France</td>\n",
       "      <td>Female</td>\n",
       "      <td>40</td>\n",
       "      <td>8</td>\n",
       "      <td>0.00</td>\n",
       "      <td>2</td>\n",
       "      <td>0</td>\n",
       "      <td>1</td>\n",
       "      <td>69080.46</td>\n",
       "      <td>0</td>\n",
       "    </tr>\n",
       "    <tr>\n",
       "      <th>1276</th>\n",
       "      <td>635</td>\n",
       "      <td>Germany</td>\n",
       "      <td>Male</td>\n",
       "      <td>37</td>\n",
       "      <td>5</td>\n",
       "      <td>113488.68</td>\n",
       "      <td>1</td>\n",
       "      <td>1</td>\n",
       "      <td>0</td>\n",
       "      <td>95611.74</td>\n",
       "      <td>1</td>\n",
       "    </tr>\n",
       "    <tr>\n",
       "      <th>9975</th>\n",
       "      <td>610</td>\n",
       "      <td>Germany</td>\n",
       "      <td>Male</td>\n",
       "      <td>50</td>\n",
       "      <td>1</td>\n",
       "      <td>113957.01</td>\n",
       "      <td>2</td>\n",
       "      <td>1</td>\n",
       "      <td>0</td>\n",
       "      <td>196526.55</td>\n",
       "      <td>1</td>\n",
       "    </tr>\n",
       "    <tr>\n",
       "      <th>8082</th>\n",
       "      <td>772</td>\n",
       "      <td>Spain</td>\n",
       "      <td>Male</td>\n",
       "      <td>36</td>\n",
       "      <td>3</td>\n",
       "      <td>112029.83</td>\n",
       "      <td>1</td>\n",
       "      <td>1</td>\n",
       "      <td>1</td>\n",
       "      <td>186948.35</td>\n",
       "      <td>0</td>\n",
       "    </tr>\n",
       "    <tr>\n",
       "      <th>3285</th>\n",
       "      <td>735</td>\n",
       "      <td>Germany</td>\n",
       "      <td>Female</td>\n",
       "      <td>43</td>\n",
       "      <td>9</td>\n",
       "      <td>98807.45</td>\n",
       "      <td>1</td>\n",
       "      <td>0</td>\n",
       "      <td>0</td>\n",
       "      <td>184570.04</td>\n",
       "      <td>1</td>\n",
       "    </tr>\n",
       "    <tr>\n",
       "      <th>5430</th>\n",
       "      <td>714</td>\n",
       "      <td>France</td>\n",
       "      <td>Female</td>\n",
       "      <td>24</td>\n",
       "      <td>7</td>\n",
       "      <td>0.00</td>\n",
       "      <td>2</td>\n",
       "      <td>1</td>\n",
       "      <td>0</td>\n",
       "      <td>166335.00</td>\n",
       "      <td>0</td>\n",
       "    </tr>\n",
       "    <tr>\n",
       "      <th>4473</th>\n",
       "      <td>646</td>\n",
       "      <td>Germany</td>\n",
       "      <td>Female</td>\n",
       "      <td>29</td>\n",
       "      <td>4</td>\n",
       "      <td>105957.44</td>\n",
       "      <td>1</td>\n",
       "      <td>1</td>\n",
       "      <td>0</td>\n",
       "      <td>15470.91</td>\n",
       "      <td>0</td>\n",
       "    </tr>\n",
       "    <tr>\n",
       "      <th>6846</th>\n",
       "      <td>689</td>\n",
       "      <td>Spain</td>\n",
       "      <td>Female</td>\n",
       "      <td>40</td>\n",
       "      <td>5</td>\n",
       "      <td>154251.67</td>\n",
       "      <td>1</td>\n",
       "      <td>0</td>\n",
       "      <td>1</td>\n",
       "      <td>118319.50</td>\n",
       "      <td>0</td>\n",
       "    </tr>\n",
       "  </tbody>\n",
       "</table>\n",
       "</div>"
      ],
      "text/plain": [
       "      CreditScore Geography  Gender  Age  Tenure    Balance  NumOfProducts  \\\n",
       "3691          590    France  Female   76       5  160979.68              1   \n",
       "918           784     Spain    Male   35       3       0.00              2   \n",
       "8620          768    France  Female   40       8       0.00              2   \n",
       "1276          635   Germany    Male   37       5  113488.68              1   \n",
       "9975          610   Germany    Male   50       1  113957.01              2   \n",
       "8082          772     Spain    Male   36       3  112029.83              1   \n",
       "3285          735   Germany  Female   43       9   98807.45              1   \n",
       "5430          714    France  Female   24       7       0.00              2   \n",
       "4473          646   Germany  Female   29       4  105957.44              1   \n",
       "6846          689     Spain  Female   40       5  154251.67              1   \n",
       "\n",
       "      HasCrCard  IsActiveMember  EstimatedSalary  Exited  \n",
       "3691          0               1         13848.58       0  \n",
       "918           0               0         81483.64       0  \n",
       "8620          0               1         69080.46       0  \n",
       "1276          1               0         95611.74       1  \n",
       "9975          1               0        196526.55       1  \n",
       "8082          1               1        186948.35       0  \n",
       "3285          0               0        184570.04       1  \n",
       "5430          1               0        166335.00       0  \n",
       "4473          1               0         15470.91       0  \n",
       "6846          0               1        118319.50       0  "
      ]
     },
     "execution_count": 6,
     "metadata": {},
     "output_type": "execute_result"
    }
   ],
   "source": [
    "df.sample(10)"
   ]
  },
  {
   "cell_type": "code",
   "execution_count": 7,
   "id": "a54f137b",
   "metadata": {},
   "outputs": [
    {
     "data": {
      "text/plain": [
       "France     5014\n",
       "Germany    2509\n",
       "Spain      2477\n",
       "Name: Geography, dtype: int64"
      ]
     },
     "execution_count": 7,
     "metadata": {},
     "output_type": "execute_result"
    }
   ],
   "source": [
    "df.Geography.value_counts()"
   ]
  },
  {
   "cell_type": "code",
   "execution_count": 8,
   "id": "4c0d8e49",
   "metadata": {},
   "outputs": [
    {
     "data": {
      "text/plain": [
       "1    5151\n",
       "0    4849\n",
       "Name: IsActiveMember, dtype: int64"
      ]
     },
     "execution_count": 8,
     "metadata": {},
     "output_type": "execute_result"
    }
   ],
   "source": [
    "df.IsActiveMember.value_counts()"
   ]
  },
  {
   "cell_type": "code",
   "execution_count": 9,
   "id": "0c1f1569",
   "metadata": {},
   "outputs": [
    {
     "data": {
      "text/plain": [
       "0    4416\n",
       "1     735\n",
       "Name: Exited, dtype: int64"
      ]
     },
     "execution_count": 9,
     "metadata": {},
     "output_type": "execute_result"
    }
   ],
   "source": [
    "df[df.IsActiveMember==1].Exited.value_counts()"
   ]
  },
  {
   "cell_type": "code",
   "execution_count": 10,
   "id": "a56f1b69",
   "metadata": {},
   "outputs": [
    {
     "data": {
      "text/plain": [
       "1    7055\n",
       "0    2945\n",
       "Name: HasCrCard, dtype: int64"
      ]
     },
     "execution_count": 10,
     "metadata": {},
     "output_type": "execute_result"
    }
   ],
   "source": [
    "df.HasCrCard.value_counts()"
   ]
  },
  {
   "cell_type": "code",
   "execution_count": 11,
   "id": "fbc1215d",
   "metadata": {},
   "outputs": [
    {
     "data": {
      "text/plain": [
       "0    5631\n",
       "1    1424\n",
       "Name: Exited, dtype: int64"
      ]
     },
     "execution_count": 11,
     "metadata": {},
     "output_type": "execute_result"
    }
   ],
   "source": [
    "df[df.HasCrCard==1].Exited.value_counts()"
   ]
  },
  {
   "cell_type": "code",
   "execution_count": 12,
   "id": "eed1fa27",
   "metadata": {},
   "outputs": [
    {
     "data": {
      "text/html": [
       "<div>\n",
       "<style scoped>\n",
       "    .dataframe tbody tr th:only-of-type {\n",
       "        vertical-align: middle;\n",
       "    }\n",
       "\n",
       "    .dataframe tbody tr th {\n",
       "        vertical-align: top;\n",
       "    }\n",
       "\n",
       "    .dataframe thead th {\n",
       "        text-align: right;\n",
       "    }\n",
       "</style>\n",
       "<table border=\"1\" class=\"dataframe\">\n",
       "  <thead>\n",
       "    <tr style=\"text-align: right;\">\n",
       "      <th></th>\n",
       "      <th>CreditScore</th>\n",
       "      <th>Gender</th>\n",
       "      <th>Age</th>\n",
       "      <th>Tenure</th>\n",
       "      <th>Balance</th>\n",
       "      <th>NumOfProducts</th>\n",
       "      <th>HasCrCard</th>\n",
       "      <th>IsActiveMember</th>\n",
       "      <th>EstimatedSalary</th>\n",
       "      <th>Exited</th>\n",
       "      <th>Geography_Germany</th>\n",
       "      <th>Geography_Spain</th>\n",
       "    </tr>\n",
       "  </thead>\n",
       "  <tbody>\n",
       "    <tr>\n",
       "      <th>0</th>\n",
       "      <td>619</td>\n",
       "      <td>Female</td>\n",
       "      <td>42</td>\n",
       "      <td>2</td>\n",
       "      <td>0.00</td>\n",
       "      <td>1</td>\n",
       "      <td>1</td>\n",
       "      <td>1</td>\n",
       "      <td>101348.88</td>\n",
       "      <td>1</td>\n",
       "      <td>0</td>\n",
       "      <td>0</td>\n",
       "    </tr>\n",
       "    <tr>\n",
       "      <th>1</th>\n",
       "      <td>608</td>\n",
       "      <td>Female</td>\n",
       "      <td>41</td>\n",
       "      <td>1</td>\n",
       "      <td>83807.86</td>\n",
       "      <td>1</td>\n",
       "      <td>0</td>\n",
       "      <td>1</td>\n",
       "      <td>112542.58</td>\n",
       "      <td>0</td>\n",
       "      <td>0</td>\n",
       "      <td>1</td>\n",
       "    </tr>\n",
       "    <tr>\n",
       "      <th>2</th>\n",
       "      <td>502</td>\n",
       "      <td>Female</td>\n",
       "      <td>42</td>\n",
       "      <td>8</td>\n",
       "      <td>159660.80</td>\n",
       "      <td>3</td>\n",
       "      <td>1</td>\n",
       "      <td>0</td>\n",
       "      <td>113931.57</td>\n",
       "      <td>1</td>\n",
       "      <td>0</td>\n",
       "      <td>0</td>\n",
       "    </tr>\n",
       "    <tr>\n",
       "      <th>3</th>\n",
       "      <td>699</td>\n",
       "      <td>Female</td>\n",
       "      <td>39</td>\n",
       "      <td>1</td>\n",
       "      <td>0.00</td>\n",
       "      <td>2</td>\n",
       "      <td>0</td>\n",
       "      <td>0</td>\n",
       "      <td>93826.63</td>\n",
       "      <td>0</td>\n",
       "      <td>0</td>\n",
       "      <td>0</td>\n",
       "    </tr>\n",
       "    <tr>\n",
       "      <th>4</th>\n",
       "      <td>850</td>\n",
       "      <td>Female</td>\n",
       "      <td>43</td>\n",
       "      <td>2</td>\n",
       "      <td>125510.82</td>\n",
       "      <td>1</td>\n",
       "      <td>1</td>\n",
       "      <td>1</td>\n",
       "      <td>79084.10</td>\n",
       "      <td>0</td>\n",
       "      <td>0</td>\n",
       "      <td>1</td>\n",
       "    </tr>\n",
       "  </tbody>\n",
       "</table>\n",
       "</div>"
      ],
      "text/plain": [
       "   CreditScore  Gender  Age  Tenure    Balance  NumOfProducts  HasCrCard  \\\n",
       "0          619  Female   42       2       0.00              1          1   \n",
       "1          608  Female   41       1   83807.86              1          0   \n",
       "2          502  Female   42       8  159660.80              3          1   \n",
       "3          699  Female   39       1       0.00              2          0   \n",
       "4          850  Female   43       2  125510.82              1          1   \n",
       "\n",
       "   IsActiveMember  EstimatedSalary  Exited  Geography_Germany  Geography_Spain  \n",
       "0               1        101348.88       1                  0                0  \n",
       "1               1        112542.58       0                  0                1  \n",
       "2               0        113931.57       1                  0                0  \n",
       "3               0         93826.63       0                  0                0  \n",
       "4               1         79084.10       0                  0                1  "
      ]
     },
     "execution_count": 12,
     "metadata": {},
     "output_type": "execute_result"
    }
   ],
   "source": [
    "df=pd.get_dummies(df,columns=['Geography'],drop_first=True)\n",
    "df.head()"
   ]
  },
  {
   "cell_type": "code",
   "execution_count": 13,
   "id": "6941ccce",
   "metadata": {},
   "outputs": [],
   "source": [
    "df=pd.get_dummies(df,columns=['Gender'],drop_first=True)"
   ]
  },
  {
   "cell_type": "code",
   "execution_count": 14,
   "id": "927cd031",
   "metadata": {},
   "outputs": [
    {
     "data": {
      "text/html": [
       "<div>\n",
       "<style scoped>\n",
       "    .dataframe tbody tr th:only-of-type {\n",
       "        vertical-align: middle;\n",
       "    }\n",
       "\n",
       "    .dataframe tbody tr th {\n",
       "        vertical-align: top;\n",
       "    }\n",
       "\n",
       "    .dataframe thead th {\n",
       "        text-align: right;\n",
       "    }\n",
       "</style>\n",
       "<table border=\"1\" class=\"dataframe\">\n",
       "  <thead>\n",
       "    <tr style=\"text-align: right;\">\n",
       "      <th></th>\n",
       "      <th>CreditScore</th>\n",
       "      <th>Age</th>\n",
       "      <th>Tenure</th>\n",
       "      <th>Balance</th>\n",
       "      <th>NumOfProducts</th>\n",
       "      <th>HasCrCard</th>\n",
       "      <th>IsActiveMember</th>\n",
       "      <th>EstimatedSalary</th>\n",
       "      <th>Exited</th>\n",
       "      <th>Geography_Germany</th>\n",
       "      <th>Geography_Spain</th>\n",
       "      <th>Gender_Male</th>\n",
       "    </tr>\n",
       "  </thead>\n",
       "  <tbody>\n",
       "    <tr>\n",
       "      <th>610</th>\n",
       "      <td>495</td>\n",
       "      <td>30</td>\n",
       "      <td>10</td>\n",
       "      <td>129755.99</td>\n",
       "      <td>1</td>\n",
       "      <td>0</td>\n",
       "      <td>0</td>\n",
       "      <td>172749.65</td>\n",
       "      <td>0</td>\n",
       "      <td>0</td>\n",
       "      <td>0</td>\n",
       "      <td>1</td>\n",
       "    </tr>\n",
       "  </tbody>\n",
       "</table>\n",
       "</div>"
      ],
      "text/plain": [
       "     CreditScore  Age  Tenure    Balance  NumOfProducts  HasCrCard  \\\n",
       "610          495   30      10  129755.99              1          0   \n",
       "\n",
       "     IsActiveMember  EstimatedSalary  Exited  Geography_Germany  \\\n",
       "610               0        172749.65       0                  0   \n",
       "\n",
       "     Geography_Spain  Gender_Male  \n",
       "610                0            1  "
      ]
     },
     "execution_count": 14,
     "metadata": {},
     "output_type": "execute_result"
    }
   ],
   "source": [
    "df.sample()"
   ]
  },
  {
   "cell_type": "code",
   "execution_count": 15,
   "id": "94bcdf5d",
   "metadata": {},
   "outputs": [],
   "source": [
    "X = df.drop(columns=['Exited'])\n",
    "y = df['Exited'].values\n",
    "X_train,X_test,y_train,y_test = train_test_split(X,y,test_size=0.2,random_state=0)"
   ]
  },
  {
   "cell_type": "code",
   "execution_count": 16,
   "id": "fc79e086",
   "metadata": {},
   "outputs": [],
   "source": [
    "scaler = StandardScaler()\n",
    "X_train_trf = scaler.fit_transform(X_train)\n",
    "X_test_trf = scaler.transform(X_test)"
   ]
  },
  {
   "cell_type": "code",
   "execution_count": 17,
   "id": "85122258",
   "metadata": {},
   "outputs": [],
   "source": [
    "model = Sequential()\n",
    "model.add(Dense(11,activation='relu',input_dim=11))\n",
    "#model.add(Dense(8,activation='relu'))\n",
    "model.add(Dense(1,activation='sigmoid'))"
   ]
  },
  {
   "cell_type": "code",
   "execution_count": 18,
   "id": "1e9aba9c",
   "metadata": {},
   "outputs": [
    {
     "name": "stdout",
     "output_type": "stream",
     "text": [
      "Model: \"sequential\"\n",
      "_________________________________________________________________\n",
      " Layer (type)                Output Shape              Param #   \n",
      "=================================================================\n",
      " dense (Dense)               (None, 11)                132       \n",
      "                                                                 \n",
      " dense_1 (Dense)             (None, 1)                 12        \n",
      "                                                                 \n",
      "=================================================================\n",
      "Total params: 144\n",
      "Trainable params: 144\n",
      "Non-trainable params: 0\n",
      "_________________________________________________________________\n"
     ]
    }
   ],
   "source": [
    "model.summary()"
   ]
  },
  {
   "cell_type": "code",
   "execution_count": 19,
   "id": "55d70fbd",
   "metadata": {},
   "outputs": [],
   "source": [
    "model.compile(optimizer='Adam',loss='binary_crossentropy',metrics=['accuracy'])"
   ]
  },
  {
   "cell_type": "code",
   "execution_count": 20,
   "id": "0e22ec50",
   "metadata": {},
   "outputs": [
    {
     "name": "stdout",
     "output_type": "stream",
     "text": [
      "Epoch 1/100\n",
      "128/128 [==============================] - 1s 4ms/step - loss: 946.7932 - accuracy: 0.6175 - val_loss: 95.9222 - val_accuracy: 0.7006\n",
      "Epoch 2/100\n",
      "128/128 [==============================] - 0s 3ms/step - loss: 62.3751 - accuracy: 0.6678 - val_loss: 45.4112 - val_accuracy: 0.7663\n",
      "Epoch 3/100\n",
      "128/128 [==============================] - 0s 3ms/step - loss: 42.5475 - accuracy: 0.6808 - val_loss: 38.9462 - val_accuracy: 0.7781\n",
      "Epoch 4/100\n",
      "128/128 [==============================] - 0s 2ms/step - loss: 34.1681 - accuracy: 0.6850 - val_loss: 31.0146 - val_accuracy: 0.7006\n",
      "Epoch 5/100\n",
      "128/128 [==============================] - 0s 3ms/step - loss: 32.7553 - accuracy: 0.6811 - val_loss: 36.5058 - val_accuracy: 0.6775\n",
      "Epoch 6/100\n",
      "128/128 [==============================] - 0s 2ms/step - loss: 30.5337 - accuracy: 0.6848 - val_loss: 26.4174 - val_accuracy: 0.5506\n",
      "Epoch 7/100\n",
      "128/128 [==============================] - 0s 3ms/step - loss: 32.0059 - accuracy: 0.6817 - val_loss: 71.7789 - val_accuracy: 0.7812\n",
      "Epoch 8/100\n",
      "128/128 [==============================] - 0s 3ms/step - loss: 30.9532 - accuracy: 0.6778 - val_loss: 27.5188 - val_accuracy: 0.7513\n",
      "Epoch 9/100\n",
      "128/128 [==============================] - 0s 3ms/step - loss: 32.7857 - accuracy: 0.6755 - val_loss: 31.6425 - val_accuracy: 0.3931\n",
      "Epoch 10/100\n",
      "128/128 [==============================] - 0s 3ms/step - loss: 26.9877 - accuracy: 0.6823 - val_loss: 38.7117 - val_accuracy: 0.7788\n",
      "Epoch 11/100\n",
      "128/128 [==============================] - 0s 3ms/step - loss: 20.8605 - accuracy: 0.6867 - val_loss: 18.2072 - val_accuracy: 0.6725\n",
      "Epoch 12/100\n",
      "128/128 [==============================] - 0s 4ms/step - loss: 22.1721 - accuracy: 0.6866 - val_loss: 28.8317 - val_accuracy: 0.7844\n",
      "Epoch 13/100\n",
      "128/128 [==============================] - 0s 3ms/step - loss: 21.7098 - accuracy: 0.6822 - val_loss: 35.9547 - val_accuracy: 0.7806\n",
      "Epoch 14/100\n",
      "128/128 [==============================] - 0s 3ms/step - loss: 23.7222 - accuracy: 0.6831 - val_loss: 15.7010 - val_accuracy: 0.7644\n",
      "Epoch 15/100\n",
      "128/128 [==============================] - 0s 3ms/step - loss: 25.1770 - accuracy: 0.6792 - val_loss: 15.5277 - val_accuracy: 0.7606\n",
      "Epoch 16/100\n",
      "128/128 [==============================] - 0s 3ms/step - loss: 19.6674 - accuracy: 0.6917 - val_loss: 11.6933 - val_accuracy: 0.7725\n",
      "Epoch 17/100\n",
      "128/128 [==============================] - 0s 3ms/step - loss: 16.3878 - accuracy: 0.6884 - val_loss: 15.3165 - val_accuracy: 0.7912\n",
      "Epoch 18/100\n",
      "128/128 [==============================] - 0s 3ms/step - loss: 15.1133 - accuracy: 0.6819 - val_loss: 11.6803 - val_accuracy: 0.7650\n",
      "Epoch 19/100\n",
      "128/128 [==============================] - 0s 3ms/step - loss: 13.8526 - accuracy: 0.6959 - val_loss: 14.0329 - val_accuracy: 0.7425\n",
      "Epoch 20/100\n",
      "128/128 [==============================] - 0s 3ms/step - loss: 12.6645 - accuracy: 0.6898 - val_loss: 18.7189 - val_accuracy: 0.7969\n",
      "Epoch 21/100\n",
      "128/128 [==============================] - 1s 4ms/step - loss: 9.5051 - accuracy: 0.6948 - val_loss: 3.6145 - val_accuracy: 0.7706\n",
      "Epoch 22/100\n",
      "128/128 [==============================] - 0s 3ms/step - loss: 9.5168 - accuracy: 0.6961 - val_loss: 21.1854 - val_accuracy: 0.7837\n",
      "Epoch 23/100\n",
      "128/128 [==============================] - 0s 3ms/step - loss: 12.6775 - accuracy: 0.6850 - val_loss: 4.0549 - val_accuracy: 0.7331\n",
      "Epoch 24/100\n",
      "128/128 [==============================] - 0s 3ms/step - loss: 8.9697 - accuracy: 0.6930 - val_loss: 20.7808 - val_accuracy: 0.7975\n",
      "Epoch 25/100\n",
      "128/128 [==============================] - 0s 2ms/step - loss: 12.1531 - accuracy: 0.6873 - val_loss: 13.5481 - val_accuracy: 0.7969\n",
      "Epoch 26/100\n",
      "128/128 [==============================] - 0s 2ms/step - loss: 11.7872 - accuracy: 0.6856 - val_loss: 8.5071 - val_accuracy: 0.7887\n",
      "Epoch 27/100\n",
      "128/128 [==============================] - 0s 2ms/step - loss: 14.8722 - accuracy: 0.6852 - val_loss: 38.1897 - val_accuracy: 0.7969\n",
      "Epoch 28/100\n",
      "128/128 [==============================] - 0s 2ms/step - loss: 10.3977 - accuracy: 0.6992 - val_loss: 6.3301 - val_accuracy: 0.5362\n",
      "Epoch 29/100\n",
      "128/128 [==============================] - 0s 2ms/step - loss: 8.0444 - accuracy: 0.6956 - val_loss: 8.8763 - val_accuracy: 0.5312\n",
      "Epoch 30/100\n",
      "128/128 [==============================] - 0s 3ms/step - loss: 11.3971 - accuracy: 0.6958 - val_loss: 4.1449 - val_accuracy: 0.7725\n",
      "Epoch 31/100\n",
      "128/128 [==============================] - 0s 2ms/step - loss: 9.2351 - accuracy: 0.6953 - val_loss: 12.3214 - val_accuracy: 0.3638\n",
      "Epoch 32/100\n",
      "128/128 [==============================] - 0s 3ms/step - loss: 10.9176 - accuracy: 0.6939 - val_loss: 2.7663 - val_accuracy: 0.7469\n",
      "Epoch 33/100\n",
      "128/128 [==============================] - 0s 2ms/step - loss: 6.6240 - accuracy: 0.6986 - val_loss: 8.8001 - val_accuracy: 0.5194\n",
      "Epoch 34/100\n",
      "128/128 [==============================] - 0s 2ms/step - loss: 9.9852 - accuracy: 0.6925 - val_loss: 2.5316 - val_accuracy: 0.6706\n",
      "Epoch 35/100\n",
      "128/128 [==============================] - 0s 3ms/step - loss: 7.9605 - accuracy: 0.6902 - val_loss: 10.4167 - val_accuracy: 0.7950\n",
      "Epoch 36/100\n",
      "128/128 [==============================] - 0s 2ms/step - loss: 7.6284 - accuracy: 0.6964 - val_loss: 9.7450 - val_accuracy: 0.6444\n",
      "Epoch 37/100\n",
      "128/128 [==============================] - 0s 2ms/step - loss: 11.9311 - accuracy: 0.6928 - val_loss: 14.6991 - val_accuracy: 0.7969\n",
      "Epoch 38/100\n",
      "128/128 [==============================] - 0s 3ms/step - loss: 14.7982 - accuracy: 0.6856 - val_loss: 3.9062 - val_accuracy: 0.7625\n",
      "Epoch 39/100\n",
      "128/128 [==============================] - 0s 2ms/step - loss: 8.3395 - accuracy: 0.7000 - val_loss: 12.4272 - val_accuracy: 0.3125\n",
      "Epoch 40/100\n",
      "128/128 [==============================] - 0s 2ms/step - loss: 9.2319 - accuracy: 0.6913 - val_loss: 5.1175 - val_accuracy: 0.7887\n",
      "Epoch 41/100\n",
      "128/128 [==============================] - 0s 3ms/step - loss: 12.3226 - accuracy: 0.6894 - val_loss: 35.7967 - val_accuracy: 0.7962\n",
      "Epoch 42/100\n",
      "128/128 [==============================] - 0s 2ms/step - loss: 13.9125 - accuracy: 0.6948 - val_loss: 5.6477 - val_accuracy: 0.7825\n",
      "Epoch 43/100\n",
      "128/128 [==============================] - 0s 2ms/step - loss: 8.4133 - accuracy: 0.6995 - val_loss: 5.7508 - val_accuracy: 0.7894\n",
      "Epoch 44/100\n",
      "128/128 [==============================] - 0s 2ms/step - loss: 8.7097 - accuracy: 0.7031 - val_loss: 3.1112 - val_accuracy: 0.6744\n",
      "Epoch 45/100\n",
      "128/128 [==============================] - 0s 3ms/step - loss: 12.0248 - accuracy: 0.6875 - val_loss: 15.3451 - val_accuracy: 0.5100\n",
      "Epoch 46/100\n",
      "128/128 [==============================] - 0s 2ms/step - loss: 10.9867 - accuracy: 0.6959 - val_loss: 15.3754 - val_accuracy: 0.4556\n",
      "Epoch 47/100\n",
      "128/128 [==============================] - 0s 2ms/step - loss: 11.4978 - accuracy: 0.6889 - val_loss: 17.0961 - val_accuracy: 0.6525\n",
      "Epoch 48/100\n",
      "128/128 [==============================] - 0s 4ms/step - loss: 9.1000 - accuracy: 0.6983 - val_loss: 9.2643 - val_accuracy: 0.4938\n",
      "Epoch 49/100\n",
      "128/128 [==============================] - 0s 2ms/step - loss: 6.7243 - accuracy: 0.6994 - val_loss: 6.8594 - val_accuracy: 0.7656\n",
      "Epoch 50/100\n",
      "128/128 [==============================] - 0s 2ms/step - loss: 14.0100 - accuracy: 0.6909 - val_loss: 5.9692 - val_accuracy: 0.7206\n",
      "Epoch 51/100\n",
      "128/128 [==============================] - 0s 3ms/step - loss: 11.7992 - accuracy: 0.6970 - val_loss: 17.2797 - val_accuracy: 0.3013\n",
      "Epoch 52/100\n",
      "128/128 [==============================] - 0s 2ms/step - loss: 11.7931 - accuracy: 0.6841 - val_loss: 2.3412 - val_accuracy: 0.7475\n",
      "Epoch 53/100\n",
      "128/128 [==============================] - 0s 2ms/step - loss: 9.3640 - accuracy: 0.6992 - val_loss: 20.5337 - val_accuracy: 0.7506\n",
      "Epoch 54/100\n",
      "128/128 [==============================] - 0s 2ms/step - loss: 10.8532 - accuracy: 0.7027 - val_loss: 25.3176 - val_accuracy: 0.2800\n",
      "Epoch 55/100\n",
      "128/128 [==============================] - 0s 2ms/step - loss: 14.0457 - accuracy: 0.6841 - val_loss: 8.4884 - val_accuracy: 0.7975\n",
      "Epoch 56/100\n",
      "128/128 [==============================] - 0s 2ms/step - loss: 11.8372 - accuracy: 0.6934 - val_loss: 2.2142 - val_accuracy: 0.7706\n",
      "Epoch 57/100\n",
      "128/128 [==============================] - 0s 3ms/step - loss: 9.4041 - accuracy: 0.6978 - val_loss: 14.0217 - val_accuracy: 0.7956\n",
      "Epoch 58/100\n",
      "128/128 [==============================] - 0s 3ms/step - loss: 12.8929 - accuracy: 0.6906 - val_loss: 15.0048 - val_accuracy: 0.7969\n",
      "Epoch 59/100\n",
      "128/128 [==============================] - 0s 2ms/step - loss: 5.7647 - accuracy: 0.7125 - val_loss: 13.4827 - val_accuracy: 0.7706\n",
      "Epoch 60/100\n",
      "128/128 [==============================] - 0s 2ms/step - loss: 11.5036 - accuracy: 0.6866 - val_loss: 13.9545 - val_accuracy: 0.3700\n",
      "Epoch 61/100\n",
      "128/128 [==============================] - 0s 2ms/step - loss: 10.5447 - accuracy: 0.6998 - val_loss: 7.2896 - val_accuracy: 0.7369\n",
      "Epoch 62/100\n",
      "128/128 [==============================] - 0s 2ms/step - loss: 9.4617 - accuracy: 0.7039 - val_loss: 36.7447 - val_accuracy: 0.2775\n",
      "Epoch 63/100\n",
      "128/128 [==============================] - 0s 2ms/step - loss: 9.5157 - accuracy: 0.6903 - val_loss: 10.8761 - val_accuracy: 0.7837\n",
      "Epoch 64/100\n",
      "128/128 [==============================] - 0s 3ms/step - loss: 8.9681 - accuracy: 0.6986 - val_loss: 12.3764 - val_accuracy: 0.7950\n",
      "Epoch 65/100\n",
      "128/128 [==============================] - 0s 2ms/step - loss: 9.9480 - accuracy: 0.6944 - val_loss: 8.8611 - val_accuracy: 0.7894\n",
      "Epoch 66/100\n",
      "128/128 [==============================] - 0s 3ms/step - loss: 9.0953 - accuracy: 0.7009 - val_loss: 17.1105 - val_accuracy: 0.3456\n",
      "Epoch 67/100\n",
      "128/128 [==============================] - 0s 2ms/step - loss: 9.5622 - accuracy: 0.6984 - val_loss: 9.0325 - val_accuracy: 0.7294\n",
      "Epoch 68/100\n",
      "128/128 [==============================] - 0s 2ms/step - loss: 11.7772 - accuracy: 0.6948 - val_loss: 15.3502 - val_accuracy: 0.3631\n",
      "Epoch 69/100\n",
      "128/128 [==============================] - 0s 3ms/step - loss: 9.4384 - accuracy: 0.7025 - val_loss: 8.1062 - val_accuracy: 0.7981\n",
      "Epoch 70/100\n",
      "128/128 [==============================] - 0s 3ms/step - loss: 9.1330 - accuracy: 0.6986 - val_loss: 15.3473 - val_accuracy: 0.7925\n",
      "Epoch 71/100\n",
      "128/128 [==============================] - 0s 2ms/step - loss: 11.7587 - accuracy: 0.6953 - val_loss: 2.8019 - val_accuracy: 0.6625\n",
      "Epoch 72/100\n",
      "128/128 [==============================] - 0s 2ms/step - loss: 5.6314 - accuracy: 0.7053 - val_loss: 7.2945 - val_accuracy: 0.7894\n",
      "Epoch 73/100\n",
      "128/128 [==============================] - 0s 2ms/step - loss: 11.3259 - accuracy: 0.6936 - val_loss: 18.8911 - val_accuracy: 0.7969\n",
      "Epoch 74/100\n",
      "128/128 [==============================] - 0s 2ms/step - loss: 10.1244 - accuracy: 0.7011 - val_loss: 3.8822 - val_accuracy: 0.7706\n",
      "Epoch 75/100\n",
      "128/128 [==============================] - 0s 2ms/step - loss: 6.2884 - accuracy: 0.7045 - val_loss: 4.2834 - val_accuracy: 0.7594\n",
      "Epoch 76/100\n",
      "128/128 [==============================] - 0s 3ms/step - loss: 9.0333 - accuracy: 0.7022 - val_loss: 8.4805 - val_accuracy: 0.7862\n",
      "Epoch 77/100\n",
      "128/128 [==============================] - 0s 3ms/step - loss: 5.9279 - accuracy: 0.7073 - val_loss: 4.6404 - val_accuracy: 0.7875\n",
      "Epoch 78/100\n",
      "128/128 [==============================] - 0s 2ms/step - loss: 9.3478 - accuracy: 0.7066 - val_loss: 3.1123 - val_accuracy: 0.7738\n",
      "Epoch 79/100\n",
      "128/128 [==============================] - 0s 2ms/step - loss: 8.1307 - accuracy: 0.6986 - val_loss: 10.6489 - val_accuracy: 0.7944\n",
      "Epoch 80/100\n",
      "128/128 [==============================] - 0s 3ms/step - loss: 9.9686 - accuracy: 0.7019 - val_loss: 10.0919 - val_accuracy: 0.7956\n",
      "Epoch 81/100\n",
      "128/128 [==============================] - 0s 3ms/step - loss: 13.5396 - accuracy: 0.6847 - val_loss: 5.5667 - val_accuracy: 0.7856\n",
      "Epoch 82/100\n",
      "128/128 [==============================] - 0s 4ms/step - loss: 6.8662 - accuracy: 0.7127 - val_loss: 8.4906 - val_accuracy: 0.7144\n",
      "Epoch 83/100\n",
      "128/128 [==============================] - 0s 4ms/step - loss: 7.7861 - accuracy: 0.7041 - val_loss: 21.4246 - val_accuracy: 0.2544\n",
      "Epoch 84/100\n",
      "128/128 [==============================] - 1s 6ms/step - loss: 16.7391 - accuracy: 0.6961 - val_loss: 3.6069 - val_accuracy: 0.5431\n",
      "Epoch 85/100\n",
      "128/128 [==============================] - 1s 8ms/step - loss: 13.1420 - accuracy: 0.6956 - val_loss: 5.9229 - val_accuracy: 0.7775\n",
      "Epoch 86/100\n",
      "128/128 [==============================] - 1s 9ms/step - loss: 5.5004 - accuracy: 0.7136 - val_loss: 7.9586 - val_accuracy: 0.7925\n",
      "Epoch 87/100\n",
      "128/128 [==============================] - 1s 6ms/step - loss: 9.8761 - accuracy: 0.6911 - val_loss: 3.3551 - val_accuracy: 0.7713\n",
      "Epoch 88/100\n",
      "128/128 [==============================] - 0s 4ms/step - loss: 8.7120 - accuracy: 0.7066 - val_loss: 3.0386 - val_accuracy: 0.7606\n",
      "Epoch 89/100\n",
      "128/128 [==============================] - 0s 4ms/step - loss: 9.0869 - accuracy: 0.6950 - val_loss: 5.4093 - val_accuracy: 0.7812\n",
      "Epoch 90/100\n",
      "128/128 [==============================] - 0s 3ms/step - loss: 5.9743 - accuracy: 0.7109 - val_loss: 9.3563 - val_accuracy: 0.7563\n",
      "Epoch 91/100\n",
      "128/128 [==============================] - 0s 3ms/step - loss: 9.3836 - accuracy: 0.6973 - val_loss: 4.3519 - val_accuracy: 0.7831\n",
      "Epoch 92/100\n",
      "128/128 [==============================] - 0s 3ms/step - loss: 11.5065 - accuracy: 0.6970 - val_loss: 9.9607 - val_accuracy: 0.4338\n",
      "Epoch 93/100\n",
      "128/128 [==============================] - 0s 3ms/step - loss: 7.4218 - accuracy: 0.7039 - val_loss: 6.3754 - val_accuracy: 0.7706\n",
      "Epoch 94/100\n",
      "128/128 [==============================] - 0s 3ms/step - loss: 7.6816 - accuracy: 0.6967 - val_loss: 6.8877 - val_accuracy: 0.7887\n",
      "Epoch 95/100\n",
      "128/128 [==============================] - 0s 3ms/step - loss: 8.6625 - accuracy: 0.7011 - val_loss: 5.4643 - val_accuracy: 0.6969\n",
      "Epoch 96/100\n",
      "128/128 [==============================] - 0s 3ms/step - loss: 8.2146 - accuracy: 0.7063 - val_loss: 2.3093 - val_accuracy: 0.6862\n",
      "Epoch 97/100\n",
      "128/128 [==============================] - 0s 4ms/step - loss: 8.1308 - accuracy: 0.7034 - val_loss: 5.4802 - val_accuracy: 0.5625\n",
      "Epoch 98/100\n",
      "128/128 [==============================] - 0s 2ms/step - loss: 7.4573 - accuracy: 0.7027 - val_loss: 10.8328 - val_accuracy: 0.6294\n",
      "Epoch 99/100\n",
      "128/128 [==============================] - 0s 3ms/step - loss: 12.2229 - accuracy: 0.6867 - val_loss: 27.2504 - val_accuracy: 0.7975\n",
      "Epoch 100/100\n",
      "128/128 [==============================] - 0s 3ms/step - loss: 8.4263 - accuracy: 0.7019 - val_loss: 3.9284 - val_accuracy: 0.7025\n"
     ]
    }
   ],
   "source": [
    "history = model.fit(X_train_trf,y_train,batch_size=50,epochs=100,verbose=1,validation_split=0.2)"
   ]
  },
  {
   "cell_type": "code",
   "execution_count": 21,
   "id": "caa06a94",
   "metadata": {},
   "outputs": [
    {
     "name": "stdout",
     "output_type": "stream",
     "text": [
      "63/63 [==============================] - 0s 2ms/step\n"
     ]
    },
    {
     "data": {
      "text/plain": [
       "array([[4.9356800e-05],\n",
       "       [9.2154288e-01],\n",
       "       [1.5208827e-03],\n",
       "       ...,\n",
       "       [6.5972209e-02],\n",
       "       [1.0000000e+00],\n",
       "       [8.9189525e-06]], dtype=float32)"
      ]
     },
     "execution_count": 21,
     "metadata": {},
     "output_type": "execute_result"
    }
   ],
   "source": [
    "y_pred = model.predict(X_test)\n",
    "y_pred"
   ]
  },
  {
   "cell_type": "code",
   "execution_count": 22,
   "id": "6260bcda",
   "metadata": {},
   "outputs": [
    {
     "data": {
      "text/plain": [
       "array([0, 0, 0, ..., 0, 0, 0], dtype=int64)"
      ]
     },
     "execution_count": 22,
     "metadata": {},
     "output_type": "execute_result"
    }
   ],
   "source": [
    "y_pred = y_pred.argmax(axis=-1)\n",
    "y_pred"
   ]
  },
  {
   "cell_type": "code",
   "execution_count": 23,
   "id": "c37723ac",
   "metadata": {},
   "outputs": [
    {
     "data": {
      "text/plain": [
       "[<matplotlib.lines.Line2D at 0x21ae9d24880>]"
      ]
     },
     "execution_count": 23,
     "metadata": {},
     "output_type": "execute_result"
    },
    {
     "data": {
      "image/png": "[encoded data removed]",
      "text/plain": [
       "<Figure size 640x480 with 1 Axes>"
      ]
     },
     "metadata": {},
     "output_type": "display_data"
    }
   ],
   "source": [
    "plt.plot(history.history['loss'])\n",
    "plt.plot(history.history['val_loss'])"
   ]
  },
  {
   "cell_type": "code",
   "execution_count": 24,
   "id": "03bae172",
   "metadata": {},
   "outputs": [
    {
     "data": {
      "text/plain": [
       "[<matplotlib.lines.Line2D at 0x21aecf17280>]"
      ]
     },
     "execution_count": 24,
     "metadata": {},
     "output_type": "execute_result"
    },
    {
     "data": {
      "image/png": "[encoded data removed]",
      "text/plain": [
       "<Figure size 640x480 with 1 Axes>"
      ]
     },
     "metadata": {},
     "output_type": "display_data"
    }
   ],
   "source": [
    "plt.plot(history.history['accuracy'])\n",
    "plt.plot(history.history['val_accuracy'])"
   ]
  },
  {
   "cell_type": "code",
   "execution_count": null,
   "id": "6311058a",
   "metadata": {},
   "outputs": [],
   "source": []
  },
  {
   "cell_type": "code",
   "execution_count": null,
   "id": "90cdc432",
   "metadata": {},
   "outputs": [],
   "source": []
  }
 ],
 "metadata": {
  "kernelspec": {
   "display_name": "openvino_env",
   "language": "python",
   "name": "python3"
  },
  "language_info": {
   "codemirror_mode": {
    "name": "ipython",
    "version": 3
   },
   "file_extension": ".py",
   "mimetype": "text/x-python",
   "name": "python",
   "nbconvert_exporter": "python",
   "pygments_lexer": "ipython3",
   "version": "3.10.0"
  },
  "vscode": {
   "interpreter": {
    "hash": "0104a31503cc31c58545096f1de32d3ebd5a8dd5a3ce552d8570e05c0378b4b3"
   }
  }
 },
 "nbformat": 4,
 "nbformat_minor": 5
}
